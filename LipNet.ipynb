{
 "cells": [
  {
   "cell_type": "markdown",
   "id": "a3573a47-3689-4668-b62f-5c8451b2b4e9",
   "metadata": {
    "tags": []
   },
   "source": [
    "# 0. Install and Import Dependencies"
   ]
  },
  {
   "cell_type": "code",
   "execution_count": 2,
   "id": "ddfbccbe-41ae-4c23-98b1-a13868e2b499",
   "metadata": {
    "scrolled": true,
    "tags": []
   },
   "outputs": [
    {
     "name": "stdout",
     "output_type": "stream",
     "text": [
      "Package            Version\n",
      "------------------ -----------\n",
      "asttokens          2.3.0\n",
      "backcall           0.2.0\n",
      "colorama           0.4.6\n",
      "comm               0.1.4\n",
      "debugpy            1.6.7.post1\n",
      "decorator          5.1.1\n",
      "exceptiongroup     1.1.3\n",
      "executing          1.2.0\n",
      "importlib-metadata 6.8.0\n",
      "ipykernel          6.25.1\n",
      "ipython            8.15.0\n",
      "jedi               0.19.0\n",
      "jupyter_client     8.3.1\n",
      "jupyter_core       5.3.1\n",
      "matplotlib-inline  0.1.6\n",
      "nest-asyncio       1.5.7\n",
      "numpy              1.25.2\n",
      "opencv-python      4.8.0.76\n",
      "packaging          23.1\n",
      "parso              0.8.3\n",
      "pickleshare        0.7.5\n",
      "pip                23.2.1\n",
      "platformdirs       3.10.0\n",
      "prompt-toolkit     3.0.39\n",
      "psutil             5.9.5\n",
      "pure-eval          0.2.2\n",
      "Pygments           2.16.1\n",
      "python-dateutil    2.8.2\n",
      "pywin32            306\n",
      "pyzmq              25.1.1\n",
      "setuptools         57.4.0\n",
      "six                1.16.0\n",
      "stack-data         0.6.2\n",
      "tornado            6.3.3\n",
      "traitlets          5.9.0\n",
      "typing_extensions  4.7.1\n",
      "wcwidth            0.2.6\n",
      "zipp               3.16.2\n"
     ]
    }
   ],
   "source": [
    "!pip list"
   ]
  },
  {
   "cell_type": "code",
   "execution_count": 5,
   "id": "02f907ea-f669-46c7-adcf-7f257e663448",
   "metadata": {
    "tags": []
   },
   "outputs": [
    {
     "name": "stdout",
     "output_type": "stream",
     "text": [
      "Requirement already satisfied: opencv-python in c:\\users\\gigabyte\\appdata\\local\\programs\\python\\python39\\lib\\site-packages (4.8.0.76)\n",
      "Collecting matplotlib\n",
      "  Obtaining dependency information for matplotlib from https://files.pythonhosted.org/packages/c9/46/6cbaf20f5bd0e7c1d204b45b853c2cd317b303fada90245f2825ecca47de/matplotlib-3.7.2-cp39-cp39-win_amd64.whl.metadata\n",
      "  Using cached matplotlib-3.7.2-cp39-cp39-win_amd64.whl.metadata (5.8 kB)\n",
      "Collecting imageio\n",
      "  Obtaining dependency information for imageio from https://files.pythonhosted.org/packages/7b/88/59411e1a652ac3338d348901ffa5a73daf1f67fcb3f97d750237d4fa0821/imageio-2.31.2-py3-none-any.whl.metadata\n",
      "  Using cached imageio-2.31.2-py3-none-any.whl.metadata (4.7 kB)\n",
      "Collecting gdown\n",
      "  Using cached gdown-4.7.1-py3-none-any.whl (15 kB)\n",
      "Collecting tensorflow\n",
      "  Obtaining dependency information for tensorflow from https://files.pythonhosted.org/packages/1b/66/2f47c39cfedb29188d82555d0184a619a0bf8234fd5e5301940efb0aa464/tensorflow-2.13.0-cp39-cp39-win_amd64.whl.metadata\n",
      "  Using cached tensorflow-2.13.0-cp39-cp39-win_amd64.whl.metadata (2.6 kB)\n",
      "Requirement already satisfied: numpy>=1.17.0 in c:\\users\\gigabyte\\appdata\\local\\programs\\python\\python39\\lib\\site-packages (from opencv-python) (1.24.3)\n",
      "Collecting contourpy>=1.0.1 (from matplotlib)\n",
      "  Obtaining dependency information for contourpy>=1.0.1 from https://files.pythonhosted.org/packages/a5/d6/80258c2759bd34abe267b5d3bc6300f7105aa70181b99d531283f7e7c79e/contourpy-1.1.0-cp39-cp39-win_amd64.whl.metadata\n",
      "  Using cached contourpy-1.1.0-cp39-cp39-win_amd64.whl.metadata (5.7 kB)\n",
      "Collecting cycler>=0.10 (from matplotlib)\n",
      "  Using cached cycler-0.11.0-py3-none-any.whl (6.4 kB)\n",
      "Collecting fonttools>=4.22.0 (from matplotlib)\n",
      "  Obtaining dependency information for fonttools>=4.22.0 from https://files.pythonhosted.org/packages/1b/6d/93121de94919bd072a93131167d7c6244eb26fe9f2f897ddfee8eb550ffa/fonttools-4.42.1-cp39-cp39-win_amd64.whl.metadata\n",
      "  Using cached fonttools-4.42.1-cp39-cp39-win_amd64.whl.metadata (154 kB)\n",
      "Collecting kiwisolver>=1.0.1 (from matplotlib)\n",
      "  Obtaining dependency information for kiwisolver>=1.0.1 from https://files.pythonhosted.org/packages/ca/c1/1f986c8119c0c57c2bd71d1941da23332c38ee2c90117e46dff4358b70f7/kiwisolver-1.4.5-cp39-cp39-win_amd64.whl.metadata\n",
      "  Using cached kiwisolver-1.4.5-cp39-cp39-win_amd64.whl.metadata (6.5 kB)\n",
      "Requirement already satisfied: packaging>=20.0 in c:\\users\\gigabyte\\appdata\\roaming\\python\\python39\\site-packages (from matplotlib) (23.1)\n",
      "Requirement already satisfied: pillow>=6.2.0 in c:\\users\\gigabyte\\appdata\\local\\programs\\python\\python39\\lib\\site-packages (from matplotlib) (10.0.0)\n",
      "Requirement already satisfied: pyparsing<3.1,>=2.3.1 in c:\\users\\gigabyte\\appdata\\local\\programs\\python\\python39\\lib\\site-packages (from matplotlib) (3.0.9)\n",
      "Requirement already satisfied: python-dateutil>=2.7 in c:\\users\\gigabyte\\appdata\\roaming\\python\\python39\\site-packages (from matplotlib) (2.8.2)\n",
      "Collecting importlib-resources>=3.2.0 (from matplotlib)\n",
      "  Obtaining dependency information for importlib-resources>=3.2.0 from https://files.pythonhosted.org/packages/25/d4/592f53ce2f8dde8be5720851bd0ab71cc2e76c55978e4163ef1ab7e389bb/importlib_resources-6.0.1-py3-none-any.whl.metadata\n",
      "  Using cached importlib_resources-6.0.1-py3-none-any.whl.metadata (4.0 kB)\n",
      "Collecting filelock (from gdown)\n",
      "  Obtaining dependency information for filelock from https://files.pythonhosted.org/packages/52/90/45223db4e1df30ff14e8aebf9a1bf0222da2e7b49e53692c968f36817812/filelock-3.12.3-py3-none-any.whl.metadata\n",
      "  Using cached filelock-3.12.3-py3-none-any.whl.metadata (2.7 kB)\n",
      "Collecting requests[socks] (from gdown)\n",
      "  Obtaining dependency information for requests[socks] from https://files.pythonhosted.org/packages/70/8e/0e2d847013cb52cd35b38c009bb167a1a26b2ce6cd6965bf26b47bc0bf44/requests-2.31.0-py3-none-any.whl.metadata\n",
      "  Using cached requests-2.31.0-py3-none-any.whl.metadata (4.6 kB)\n",
      "Requirement already satisfied: six in c:\\users\\gigabyte\\appdata\\roaming\\python\\python39\\site-packages (from gdown) (1.16.0)\n",
      "Requirement already satisfied: tqdm in c:\\users\\gigabyte\\appdata\\local\\programs\\python\\python39\\lib\\site-packages (from gdown) (4.66.1)\n",
      "Collecting beautifulsoup4 (from gdown)\n",
      "  Using cached beautifulsoup4-4.12.2-py3-none-any.whl (142 kB)\n",
      "Collecting tensorflow-intel==2.13.0 (from tensorflow)\n",
      "  Obtaining dependency information for tensorflow-intel==2.13.0 from https://files.pythonhosted.org/packages/2b/ad/d3a2e335004d178e0599cf8aff6c2a92cd21eb9789358fb8f3f951009930/tensorflow_intel-2.13.0-cp39-cp39-win_amd64.whl.metadata\n",
      "  Using cached tensorflow_intel-2.13.0-cp39-cp39-win_amd64.whl.metadata (4.1 kB)\n",
      "Collecting absl-py>=1.0.0 (from tensorflow-intel==2.13.0->tensorflow)\n",
      "  Using cached absl_py-1.4.0-py3-none-any.whl (126 kB)\n",
      "Collecting astunparse>=1.6.0 (from tensorflow-intel==2.13.0->tensorflow)\n",
      "  Using cached astunparse-1.6.3-py2.py3-none-any.whl (12 kB)\n",
      "Requirement already satisfied: flatbuffers>=23.1.21 in c:\\users\\gigabyte\\appdata\\local\\programs\\python\\python39\\lib\\site-packages (from tensorflow-intel==2.13.0->tensorflow) (23.5.26)\n",
      "Collecting gast<=0.4.0,>=0.2.1 (from tensorflow-intel==2.13.0->tensorflow)\n",
      "  Using cached gast-0.4.0-py3-none-any.whl (9.8 kB)\n",
      "Collecting google-pasta>=0.1.1 (from tensorflow-intel==2.13.0->tensorflow)\n",
      "  Using cached google_pasta-0.2.0-py3-none-any.whl (57 kB)\n",
      "Collecting h5py>=2.9.0 (from tensorflow-intel==2.13.0->tensorflow)\n",
      "  Obtaining dependency information for h5py>=2.9.0 from https://files.pythonhosted.org/packages/a0/62/9790f98aa125a035cda91be7a41a46bdc76b26ffdd2ad2d3c5b7f7232946/h5py-3.9.0-cp39-cp39-win_amd64.whl.metadata\n",
      "  Using cached h5py-3.9.0-cp39-cp39-win_amd64.whl.metadata (2.5 kB)\n",
      "Requirement already satisfied: libclang>=13.0.0 in c:\\users\\gigabyte\\appdata\\local\\programs\\python\\python39\\lib\\site-packages (from tensorflow-intel==2.13.0->tensorflow) (16.0.6)\n",
      "Collecting opt-einsum>=2.3.2 (from tensorflow-intel==2.13.0->tensorflow)\n",
      "  Using cached opt_einsum-3.3.0-py3-none-any.whl (65 kB)\n",
      "Requirement already satisfied: protobuf!=4.21.0,!=4.21.1,!=4.21.2,!=4.21.3,!=4.21.4,!=4.21.5,<5.0.0dev,>=3.20.3 in c:\\users\\gigabyte\\appdata\\local\\programs\\python\\python39\\lib\\site-packages (from tensorflow-intel==2.13.0->tensorflow) (4.24.2)\n",
      "Requirement already satisfied: setuptools in c:\\users\\gigabyte\\appdata\\local\\programs\\python\\python39\\lib\\site-packages (from tensorflow-intel==2.13.0->tensorflow) (57.4.0)\n",
      "Requirement already satisfied: termcolor>=1.1.0 in c:\\users\\gigabyte\\appdata\\local\\programs\\python\\python39\\lib\\site-packages (from tensorflow-intel==2.13.0->tensorflow) (2.3.0)\n",
      "Requirement already satisfied: typing-extensions<4.6.0,>=3.6.6 in c:\\users\\gigabyte\\appdata\\local\\programs\\python\\python39\\lib\\site-packages (from tensorflow-intel==2.13.0->tensorflow) (4.5.0)\n",
      "Requirement already satisfied: wrapt>=1.11.0 in c:\\users\\gigabyte\\appdata\\local\\programs\\python\\python39\\lib\\site-packages (from tensorflow-intel==2.13.0->tensorflow) (1.15.0)\n",
      "Collecting grpcio<2.0,>=1.24.3 (from tensorflow-intel==2.13.0->tensorflow)\n",
      "  Obtaining dependency information for grpcio<2.0,>=1.24.3 from https://files.pythonhosted.org/packages/d6/6a/acad736fc70df88f4cb3de5a056a7a0a6e2e996e16a6e923cb9433bb6304/grpcio-1.57.0-cp39-cp39-win_amd64.whl.metadata\n",
      "  Using cached grpcio-1.57.0-cp39-cp39-win_amd64.whl.metadata (4.1 kB)\n",
      "Collecting tensorboard<2.14,>=2.13 (from tensorflow-intel==2.13.0->tensorflow)\n",
      "  Using cached tensorboard-2.13.0-py3-none-any.whl (5.6 MB)\n",
      "Requirement already satisfied: tensorflow-estimator<2.14,>=2.13.0 in c:\\users\\gigabyte\\appdata\\local\\programs\\python\\python39\\lib\\site-packages (from tensorflow-intel==2.13.0->tensorflow) (2.13.0)\n",
      "Collecting keras<2.14,>=2.13.1 (from tensorflow-intel==2.13.0->tensorflow)\n",
      "  Obtaining dependency information for keras<2.14,>=2.13.1 from https://files.pythonhosted.org/packages/2e/f3/19da7511b45e80216cbbd9467137b2d28919c58ba1ccb971435cb631e470/keras-2.13.1-py3-none-any.whl.metadata\n",
      "  Using cached keras-2.13.1-py3-none-any.whl.metadata (2.4 kB)\n",
      "Requirement already satisfied: tensorflow-io-gcs-filesystem>=0.23.1 in c:\\users\\gigabyte\\appdata\\local\\programs\\python\\python39\\lib\\site-packages (from tensorflow-intel==2.13.0->tensorflow) (0.31.0)\n",
      "Requirement already satisfied: zipp>=3.1.0 in c:\\users\\gigabyte\\appdata\\roaming\\python\\python39\\site-packages (from importlib-resources>=3.2.0->matplotlib) (3.16.2)\n",
      "Requirement already satisfied: soupsieve>1.2 in c:\\users\\gigabyte\\appdata\\local\\programs\\python\\python39\\lib\\site-packages (from beautifulsoup4->gdown) (2.5)\n",
      "INFO: pip is looking at multiple versions of filelock to determine which version is compatible with other requirements. This could take a while.\n",
      "Collecting filelock (from gdown)\n",
      "  Obtaining dependency information for filelock from https://files.pythonhosted.org/packages/00/45/ec3407adf6f6b5bf867a4462b2b0af27597a26bd3cd6e2534cb6ab029938/filelock-3.12.2-py3-none-any.whl.metadata\n",
      "  Using cached filelock-3.12.2-py3-none-any.whl.metadata (2.7 kB)\n",
      "Collecting charset-normalizer<4,>=2 (from requests[socks]->gdown)\n",
      "  Obtaining dependency information for charset-normalizer<4,>=2 from https://files.pythonhosted.org/packages/cb/dd/dce14328e6abe0f475e606131298b4c8f628abd62a4e6f27fdfa496b9efe/charset_normalizer-3.2.0-cp39-cp39-win_amd64.whl.metadata\n",
      "  Using cached charset_normalizer-3.2.0-cp39-cp39-win_amd64.whl.metadata (31 kB)\n",
      "Collecting idna<4,>=2.5 (from requests[socks]->gdown)\n",
      "  Using cached idna-3.4-py3-none-any.whl (61 kB)\n",
      "Requirement already satisfied: urllib3<3,>=1.21.1 in c:\\users\\gigabyte\\appdata\\local\\programs\\python\\python39\\lib\\site-packages (from requests[socks]->gdown) (1.26.16)\n",
      "Collecting certifi>=2017.4.17 (from requests[socks]->gdown)\n",
      "  Obtaining dependency information for certifi>=2017.4.17 from https://files.pythonhosted.org/packages/4c/dd/2234eab22353ffc7d94e8d13177aaa050113286e93e7b40eae01fbf7c3d9/certifi-2023.7.22-py3-none-any.whl.metadata\n",
      "  Using cached certifi-2023.7.22-py3-none-any.whl.metadata (2.2 kB)\n",
      "Requirement already satisfied: PySocks!=1.5.7,>=1.5.6 in c:\\users\\gigabyte\\appdata\\local\\programs\\python\\python39\\lib\\site-packages (from requests[socks]->gdown) (1.7.1)\n",
      "Requirement already satisfied: colorama in c:\\users\\gigabyte\\appdata\\roaming\\python\\python39\\site-packages (from tqdm->gdown) (0.4.6)\n",
      "Requirement already satisfied: wheel<1.0,>=0.23.0 in c:\\users\\gigabyte\\appdata\\local\\programs\\python\\python39\\lib\\site-packages (from astunparse>=1.6.0->tensorflow-intel==2.13.0->tensorflow) (0.41.2)\n",
      "Collecting google-auth<3,>=1.6.3 (from tensorboard<2.14,>=2.13->tensorflow-intel==2.13.0->tensorflow)\n",
      "  Obtaining dependency information for google-auth<3,>=1.6.3 from https://files.pythonhosted.org/packages/9c/8d/bff87fc722553a5691d8514da5523c23547f3894189ba03b57592e37bdc2/google_auth-2.22.0-py2.py3-none-any.whl.metadata\n",
      "  Using cached google_auth-2.22.0-py2.py3-none-any.whl.metadata (4.2 kB)\n",
      "Collecting google-auth-oauthlib<1.1,>=0.5 (from tensorboard<2.14,>=2.13->tensorflow-intel==2.13.0->tensorflow)\n",
      "  Using cached google_auth_oauthlib-1.0.0-py2.py3-none-any.whl (18 kB)\n",
      "Collecting markdown>=2.6.8 (from tensorboard<2.14,>=2.13->tensorflow-intel==2.13.0->tensorflow)\n",
      "  Obtaining dependency information for markdown>=2.6.8 from https://files.pythonhosted.org/packages/1a/b5/228c1cdcfe138f1a8e01ab1b54284c8b83735476cb22b6ba251656ed13ad/Markdown-3.4.4-py3-none-any.whl.metadata\n",
      "  Using cached Markdown-3.4.4-py3-none-any.whl.metadata (6.9 kB)\n",
      "Requirement already satisfied: tensorboard-data-server<0.8.0,>=0.7.0 in c:\\users\\gigabyte\\appdata\\local\\programs\\python\\python39\\lib\\site-packages (from tensorboard<2.14,>=2.13->tensorflow-intel==2.13.0->tensorflow) (0.7.1)\n",
      "Collecting werkzeug>=1.0.1 (from tensorboard<2.14,>=2.13->tensorflow-intel==2.13.0->tensorflow)\n",
      "  Obtaining dependency information for werkzeug>=1.0.1 from https://files.pythonhosted.org/packages/9b/59/a7c32e3d8d0e546a206e0552a2c04444544f15c1da4a01df8938d20c6ffc/werkzeug-2.3.7-py3-none-any.whl.metadata\n",
      "  Using cached werkzeug-2.3.7-py3-none-any.whl.metadata (4.1 kB)\n",
      "Collecting cachetools<6.0,>=2.0.0 (from google-auth<3,>=1.6.3->tensorboard<2.14,>=2.13->tensorflow-intel==2.13.0->tensorflow)\n",
      "  Obtaining dependency information for cachetools<6.0,>=2.0.0 from https://files.pythonhosted.org/packages/a9/c9/c8a7710f2cedcb1db9224fdd4d8307c9e48cbddc46c18b515fefc0f1abbe/cachetools-5.3.1-py3-none-any.whl.metadata\n",
      "  Using cached cachetools-5.3.1-py3-none-any.whl.metadata (5.2 kB)\n",
      "Collecting pyasn1-modules>=0.2.1 (from google-auth<3,>=1.6.3->tensorboard<2.14,>=2.13->tensorflow-intel==2.13.0->tensorflow)\n",
      "  Using cached pyasn1_modules-0.3.0-py2.py3-none-any.whl (181 kB)\n",
      "Collecting rsa<5,>=3.1.4 (from google-auth<3,>=1.6.3->tensorboard<2.14,>=2.13->tensorflow-intel==2.13.0->tensorflow)\n",
      "  Using cached rsa-4.9-py3-none-any.whl (34 kB)\n",
      "Collecting requests-oauthlib>=0.7.0 (from google-auth-oauthlib<1.1,>=0.5->tensorboard<2.14,>=2.13->tensorflow-intel==2.13.0->tensorflow)\n",
      "  Using cached requests_oauthlib-1.3.1-py2.py3-none-any.whl (23 kB)\n",
      "Requirement already satisfied: importlib-metadata>=4.4 in c:\\users\\gigabyte\\appdata\\roaming\\python\\python39\\site-packages (from markdown>=2.6.8->tensorboard<2.14,>=2.13->tensorflow-intel==2.13.0->tensorflow) (6.8.0)\n",
      "Collecting MarkupSafe>=2.1.1 (from werkzeug>=1.0.1->tensorboard<2.14,>=2.13->tensorflow-intel==2.13.0->tensorflow)\n",
      "  Obtaining dependency information for MarkupSafe>=2.1.1 from https://files.pythonhosted.org/packages/a2/b2/624042cb58cc6b3529a6c3a7b7d230766e3ecb768cba118ba7befd18ed6f/MarkupSafe-2.1.3-cp39-cp39-win_amd64.whl.metadata\n",
      "  Using cached MarkupSafe-2.1.3-cp39-cp39-win_amd64.whl.metadata (3.1 kB)\n",
      "Requirement already satisfied: pyasn1<0.6.0,>=0.4.6 in c:\\users\\gigabyte\\appdata\\local\\programs\\python\\python39\\lib\\site-packages (from pyasn1-modules>=0.2.1->google-auth<3,>=1.6.3->tensorboard<2.14,>=2.13->tensorflow-intel==2.13.0->tensorflow) (0.5.0)\n",
      "Requirement already satisfied: oauthlib>=3.0.0 in c:\\users\\gigabyte\\appdata\\local\\programs\\python\\python39\\lib\\site-packages (from requests-oauthlib>=0.7.0->google-auth-oauthlib<1.1,>=0.5->tensorboard<2.14,>=2.13->tensorflow-intel==2.13.0->tensorflow) (3.2.2)\n",
      "Using cached matplotlib-3.7.2-cp39-cp39-win_amd64.whl (7.5 MB)\n",
      "Using cached imageio-2.31.2-py3-none-any.whl (313 kB)\n",
      "Using cached tensorflow-2.13.0-cp39-cp39-win_amd64.whl (1.9 kB)\n",
      "Using cached tensorflow_intel-2.13.0-cp39-cp39-win_amd64.whl (276.5 MB)\n",
      "Using cached contourpy-1.1.0-cp39-cp39-win_amd64.whl (429 kB)\n",
      "Using cached fonttools-4.42.1-cp39-cp39-win_amd64.whl (2.1 MB)\n",
      "Using cached importlib_resources-6.0.1-py3-none-any.whl (34 kB)\n",
      "Using cached kiwisolver-1.4.5-cp39-cp39-win_amd64.whl (56 kB)\n",
      "Using cached filelock-3.12.2-py3-none-any.whl (10 kB)\n",
      "Using cached certifi-2023.7.22-py3-none-any.whl (158 kB)\n",
      "Using cached charset_normalizer-3.2.0-cp39-cp39-win_amd64.whl (96 kB)\n",
      "Using cached grpcio-1.57.0-cp39-cp39-win_amd64.whl (4.3 MB)\n",
      "Using cached h5py-3.9.0-cp39-cp39-win_amd64.whl (2.7 MB)\n",
      "Using cached keras-2.13.1-py3-none-any.whl (1.7 MB)\n",
      "Using cached requests-2.31.0-py3-none-any.whl (62 kB)\n",
      "Using cached google_auth-2.22.0-py2.py3-none-any.whl (181 kB)\n",
      "Using cached Markdown-3.4.4-py3-none-any.whl (94 kB)\n",
      "Using cached werkzeug-2.3.7-py3-none-any.whl (242 kB)\n",
      "Using cached cachetools-5.3.1-py3-none-any.whl (9.3 kB)\n",
      "Using cached MarkupSafe-2.1.3-cp39-cp39-win_amd64.whl (17 kB)\n",
      "Installing collected packages: rsa, pyasn1-modules, opt-einsum, MarkupSafe, kiwisolver, keras, importlib-resources, imageio, idna, h5py, grpcio, google-pasta, gast, fonttools, filelock, cycler, contourpy, charset-normalizer, certifi, cachetools, beautifulsoup4, astunparse, absl-py, werkzeug, requests, matplotlib, markdown, google-auth, requests-oauthlib, google-auth-oauthlib, gdown, tensorboard, tensorflow-intel, tensorflow\n",
      "Successfully installed MarkupSafe-2.1.3 absl-py-1.4.0 astunparse-1.6.3 beautifulsoup4-4.12.2 cachetools-5.3.1 certifi-2023.7.22 charset-normalizer-3.2.0 contourpy-1.1.0 cycler-0.11.0 filelock-3.12.2 fonttools-4.42.1 gast-0.4.0 gdown-4.7.1 google-auth-2.22.0 google-auth-oauthlib-1.0.0 google-pasta-0.2.0 grpcio-1.57.0 h5py-3.9.0 idna-3.4 imageio-2.31.2 importlib-resources-6.0.1 keras-2.13.1 kiwisolver-1.4.5 markdown-3.4.4 matplotlib-3.7.2 opt-einsum-3.3.0 pyasn1-modules-0.3.0 requests-2.31.0 requests-oauthlib-1.3.1 rsa-4.9 tensorboard-2.13.0 tensorflow-2.13.0 tensorflow-intel-2.13.0 werkzeug-2.3.7\n",
      "Note: you may need to restart the kernel to use updated packages.\n"
     ]
    }
   ],
   "source": [
    "%pip install opencv-python matplotlib imageio gdown tensorflow"
   ]
  },
  {
   "cell_type": "code",
   "execution_count": 6,
   "id": "b24af50c-20b8-409d-ad78-30a933fdd669",
   "metadata": {
    "tags": []
   },
   "outputs": [],
   "source": [
    "import os\n",
    "import cv2\n",
    "import tensorflow as tf\n",
    "import numpy as np\n",
    "from typing import List\n",
    "from matplotlib import pyplot as plt\n",
    "import imageio"
   ]
  },
  {
   "cell_type": "code",
   "execution_count": 7,
   "id": "1e3db0b0-e559-4ad6-91fd-e7414b7d75e6",
   "metadata": {},
   "outputs": [
    {
     "data": {
      "text/plain": [
       "[]"
      ]
     },
     "execution_count": 7,
     "metadata": {},
     "output_type": "execute_result"
    }
   ],
   "source": [
    "tf.config.list_physical_devices('GPU')"
   ]
  },
  {
   "cell_type": "code",
   "execution_count": 8,
   "id": "378d045a-3003-4f93-b7d2-a25a97774a68",
   "metadata": {
    "tags": []
   },
   "outputs": [],
   "source": [
    "physical_devices = tf.config.list_physical_devices('GPU')\n",
    "try:\n",
    "    tf.config.experimental.set_memory_growth(physical_devices[0], True)\n",
    "except:\n",
    "    pass"
   ]
  },
  {
   "cell_type": "markdown",
   "id": "7a19e88e-c7b9-45c1-ae1e-f2109329c71b",
   "metadata": {
    "tags": []
   },
   "source": [
    "# 1. Build Data Loading Functions"
   ]
  },
  {
   "cell_type": "code",
   "execution_count": 9,
   "id": "8fb99c90-e05a-437f-839d-6e772f8c1dd5",
   "metadata": {
    "tags": []
   },
   "outputs": [],
   "source": [
    "import gdown"
   ]
  },
  {
   "cell_type": "code",
   "execution_count": 10,
   "id": "c019e4c6-2af3-4160-99ea-5c8cb009f1a7",
   "metadata": {
    "tags": []
   },
   "outputs": [
    {
     "name": "stderr",
     "output_type": "stream",
     "text": [
      "Downloading...\n",
      "From (uriginal): https://drive.google.com/uc?id=1YlvpDLix3S-U8fd-gqRwPcWXAXm8JwjL\n",
      "From (redirected): https://drive.google.com/uc?id=1YlvpDLix3S-U8fd-gqRwPcWXAXm8JwjL&confirm=t&uuid=7a7a635e-fbeb-4874-8df4-5bcb0fbeb1ae\n",
      "To: d:\\work\\LipNet-main\\data.zip\n",
      "100%|██████████| 423M/423M [00:48<00:00, 8.65MB/s] \n"
     ]
    },
    {
     "data": {
      "text/plain": [
       "['data/',\n",
       " 'data/alignments/',\n",
       " 'data/alignments/s1/',\n",
       " 'data/alignments/s1/bbaf2n.align',\n",
       " 'data/alignments/s1/bbaf3s.align',\n",
       " 'data/alignments/s1/bbaf4p.align',\n",
       " 'data/alignments/s1/bbaf5a.align',\n",
       " 'data/alignments/s1/bbal6n.align',\n",
       " 'data/alignments/s1/bbal7s.align',\n",
       " 'data/alignments/s1/bbal8p.align',\n",
       " 'data/alignments/s1/bbal9a.align',\n",
       " 'data/alignments/s1/bbas1s.align',\n",
       " 'data/alignments/s1/bbas2p.align',\n",
       " 'data/alignments/s1/bbas3a.align',\n",
       " 'data/alignments/s1/bbaszn.align',\n",
       " 'data/alignments/s1/bbaz4n.align',\n",
       " 'data/alignments/s1/bbaz5s.align',\n",
       " 'data/alignments/s1/bbaz6p.align',\n",
       " 'data/alignments/s1/bbaz7a.align',\n",
       " 'data/alignments/s1/bbbf6n.align',\n",
       " 'data/alignments/s1/bbbf7s.align',\n",
       " 'data/alignments/s1/bbbf8p.align',\n",
       " 'data/alignments/s1/bbbf9a.align',\n",
       " 'data/alignments/s1/bbbm1s.align',\n",
       " 'data/alignments/s1/bbbm2p.align',\n",
       " 'data/alignments/s1/bbbm3a.align',\n",
       " 'data/alignments/s1/bbbmzn.align',\n",
       " 'data/alignments/s1/bbbs4n.align',\n",
       " 'data/alignments/s1/bbbs5s.align',\n",
       " 'data/alignments/s1/bbbs6p.align',\n",
       " 'data/alignments/s1/bbbs7a.align',\n",
       " 'data/alignments/s1/bbbz8n.align',\n",
       " 'data/alignments/s1/bbbz9s.align',\n",
       " 'data/alignments/s1/bbie8n.align',\n",
       " 'data/alignments/s1/bbie9s.align',\n",
       " 'data/alignments/s1/bbif1a.align',\n",
       " 'data/alignments/s1/bbifzp.align',\n",
       " 'data/alignments/s1/bbil2n.align',\n",
       " 'data/alignments/s1/bbil3s.align',\n",
       " 'data/alignments/s1/bbil4p.align',\n",
       " 'data/alignments/s1/bbil5a.align',\n",
       " 'data/alignments/s1/bbir6n.align',\n",
       " 'data/alignments/s1/bbir7s.align',\n",
       " 'data/alignments/s1/bbir8p.align',\n",
       " 'data/alignments/s1/bbir9a.align',\n",
       " 'data/alignments/s1/bbiz1s.align',\n",
       " 'data/alignments/s1/bbiz2p.align',\n",
       " 'data/alignments/s1/bbiz3a.align',\n",
       " 'data/alignments/s1/bbizzn.align',\n",
       " 'data/alignments/s1/bbwg1s.align',\n",
       " 'data/alignments/s1/bbwg2p.align',\n",
       " 'data/alignments/s1/bbwg3a.align',\n",
       " 'data/alignments/s1/bbwgzn.align',\n",
       " 'data/alignments/s1/bbwm4n.align',\n",
       " 'data/alignments/s1/bbwm5s.align',\n",
       " 'data/alignments/s1/bbwm6p.align',\n",
       " 'data/alignments/s1/bbwm7a.align',\n",
       " 'data/alignments/s1/bbws8n.align',\n",
       " 'data/alignments/s1/bbws9s.align',\n",
       " 'data/alignments/s1/bbwt1a.align',\n",
       " 'data/alignments/s1/bbwtzp.align',\n",
       " 'data/alignments/s1/bgaa6n.align',\n",
       " 'data/alignments/s1/bgaa7s.align',\n",
       " 'data/alignments/s1/bgaa8p.align',\n",
       " 'data/alignments/s1/bgaa9a.align',\n",
       " 'data/alignments/s1/bgah1s.align',\n",
       " 'data/alignments/s1/bgah2p.align',\n",
       " 'data/alignments/s1/bgah3a.align',\n",
       " 'data/alignments/s1/bgahzn.align',\n",
       " 'data/alignments/s1/bgan4n.align',\n",
       " 'data/alignments/s1/bgan5s.align',\n",
       " 'data/alignments/s1/bgan6p.align',\n",
       " 'data/alignments/s1/bgan7a.align',\n",
       " 'data/alignments/s1/bgat8n.align',\n",
       " 'data/alignments/s1/bgat9s.align',\n",
       " 'data/alignments/s1/bgau1a.align',\n",
       " 'data/alignments/s1/bgauzp.align',\n",
       " 'data/alignments/s1/bgbb1s.align',\n",
       " 'data/alignments/s1/bgbb2p.align',\n",
       " 'data/alignments/s1/bgbb3a.align',\n",
       " 'data/alignments/s1/bgbbzn.align',\n",
       " 'data/alignments/s1/bgbh4n.align',\n",
       " 'data/alignments/s1/bgbh5s.align',\n",
       " 'data/alignments/s1/bgbh6p.align',\n",
       " 'data/alignments/s1/bgbh7a.align',\n",
       " 'data/alignments/s1/bgbn8n.align',\n",
       " 'data/alignments/s1/bgbn9s.align',\n",
       " 'data/alignments/s1/bgbo1a.align',\n",
       " 'data/alignments/s1/bgbozp.align',\n",
       " 'data/alignments/s1/bgbu2n.align',\n",
       " 'data/alignments/s1/bgbu3s.align',\n",
       " 'data/alignments/s1/bgbu4p.align',\n",
       " 'data/alignments/s1/bgbu5a.align',\n",
       " 'data/alignments/s1/bgia2n.align',\n",
       " 'data/alignments/s1/bgia3s.align',\n",
       " 'data/alignments/s1/bgia4p.align',\n",
       " 'data/alignments/s1/bgia5a.align',\n",
       " 'data/alignments/s1/bgig6n.align',\n",
       " 'data/alignments/s1/bgig7s.align',\n",
       " 'data/alignments/s1/bgig8p.align',\n",
       " 'data/alignments/s1/bgig9a.align',\n",
       " 'data/alignments/s1/bgin1s.align',\n",
       " 'data/alignments/s1/bgin2p.align',\n",
       " 'data/alignments/s1/bgin3a.align',\n",
       " 'data/alignments/s1/bginzn.align',\n",
       " 'data/alignments/s1/bgit4n.align',\n",
       " 'data/alignments/s1/bgit5s.align',\n",
       " 'data/alignments/s1/bgit6p.align',\n",
       " 'data/alignments/s1/bgit7a.align',\n",
       " 'data/alignments/s1/bgwb4n.align',\n",
       " 'data/alignments/s1/bgwb5s.align',\n",
       " 'data/alignments/s1/bgwb6p.align',\n",
       " 'data/alignments/s1/bgwb7a.align',\n",
       " 'data/alignments/s1/bgwh8n.align',\n",
       " 'data/alignments/s1/bgwh9s.align',\n",
       " 'data/alignments/s1/bgwi1a.align',\n",
       " 'data/alignments/s1/bgwizp.align',\n",
       " 'data/alignments/s1/bgwo2n.align',\n",
       " 'data/alignments/s1/bgwo3s.align',\n",
       " 'data/alignments/s1/bgwo4p.align',\n",
       " 'data/alignments/s1/bgwo5a.align',\n",
       " 'data/alignments/s1/bgwu6n.align',\n",
       " 'data/alignments/s1/bgwu7s.align',\n",
       " 'data/alignments/s1/bgwu8p.align',\n",
       " 'data/alignments/s1/bgwu9a.align',\n",
       " 'data/alignments/s1/braf8n.align',\n",
       " 'data/alignments/s1/braf9s.align',\n",
       " 'data/alignments/s1/brag1a.align',\n",
       " 'data/alignments/s1/bragzp.align',\n",
       " 'data/alignments/s1/bram2n.align',\n",
       " 'data/alignments/s1/bram3s.align',\n",
       " 'data/alignments/s1/bram4p.align',\n",
       " 'data/alignments/s1/bram5a.align',\n",
       " 'data/alignments/s1/bras6n.align',\n",
       " 'data/alignments/s1/bras7s.align',\n",
       " 'data/alignments/s1/bras8p.align',\n",
       " 'data/alignments/s1/bras9a.align',\n",
       " 'data/alignments/s1/brba1a.align',\n",
       " 'data/alignments/s1/brbazp.align',\n",
       " 'data/alignments/s1/brbg2n.align',\n",
       " 'data/alignments/s1/brbg3s.align',\n",
       " 'data/alignments/s1/brbg4p.align',\n",
       " 'data/alignments/s1/brbg5a.align',\n",
       " 'data/alignments/s1/brbm6n.align',\n",
       " 'data/alignments/s1/brbm7s.align',\n",
       " 'data/alignments/s1/brbm8p.align',\n",
       " 'data/alignments/s1/brbm9a.align',\n",
       " 'data/alignments/s1/brbt1s.align',\n",
       " 'data/alignments/s1/brbt2p.align',\n",
       " 'data/alignments/s1/brbt3a.align',\n",
       " 'data/alignments/s1/brbtzn.align',\n",
       " 'data/alignments/s1/brif4n.align',\n",
       " 'data/alignments/s1/brif5s.align',\n",
       " 'data/alignments/s1/brif6p.align',\n",
       " 'data/alignments/s1/brif7a.align',\n",
       " 'data/alignments/s1/bril8n.align',\n",
       " 'data/alignments/s1/bril9s.align',\n",
       " 'data/alignments/s1/brim1a.align',\n",
       " 'data/alignments/s1/brimzp.align',\n",
       " 'data/alignments/s1/bris2n.align',\n",
       " 'data/alignments/s1/bris3s.align',\n",
       " 'data/alignments/s1/bris4p.align',\n",
       " 'data/alignments/s1/bris5a.align',\n",
       " 'data/alignments/s1/briz6n.align',\n",
       " 'data/alignments/s1/briz7s.align',\n",
       " 'data/alignments/s1/briz8p.align',\n",
       " 'data/alignments/s1/briz9a.align',\n",
       " 'data/alignments/s1/brwa2n.align',\n",
       " 'data/alignments/s1/brwa3s.align',\n",
       " 'data/alignments/s1/brwa4p.align',\n",
       " 'data/alignments/s1/brwa5a.align',\n",
       " 'data/alignments/s1/brwg6n.align',\n",
       " 'data/alignments/s1/brwg7s.align',\n",
       " 'data/alignments/s1/brwg8p.align',\n",
       " 'data/alignments/s1/brwg9a.align',\n",
       " 'data/alignments/s1/brwn1s.align',\n",
       " 'data/alignments/s1/brwn2p.align',\n",
       " 'data/alignments/s1/brwn3a.align',\n",
       " 'data/alignments/s1/brwnzn.align',\n",
       " 'data/alignments/s1/brwt4n.align',\n",
       " 'data/alignments/s1/brwt5s.align',\n",
       " 'data/alignments/s1/brwt6p.align',\n",
       " 'data/alignments/s1/brwt7a.align',\n",
       " 'data/alignments/s1/bwaa1s.align',\n",
       " 'data/alignments/s1/bwaa2p.align',\n",
       " 'data/alignments/s1/bwaa3a.align',\n",
       " 'data/alignments/s1/bwaazn.align',\n",
       " 'data/alignments/s1/bwag4n.align',\n",
       " 'data/alignments/s1/bwag5s.align',\n",
       " 'data/alignments/s1/bwag6p.align',\n",
       " 'data/alignments/s1/bwag7a.align',\n",
       " 'data/alignments/s1/bwam8n.align',\n",
       " 'data/alignments/s1/bwam9s.align',\n",
       " 'data/alignments/s1/bwan1a.align',\n",
       " 'data/alignments/s1/bwanzp.align',\n",
       " 'data/alignments/s1/bwat2n.align',\n",
       " 'data/alignments/s1/bwat3s.align',\n",
       " 'data/alignments/s1/bwat4p.align',\n",
       " 'data/alignments/s1/bwat5a.align',\n",
       " 'data/alignments/s1/bwba4n.align',\n",
       " 'data/alignments/s1/bwba5s.align',\n",
       " 'data/alignments/s1/bwba6p.align',\n",
       " 'data/alignments/s1/bwba7a.align',\n",
       " 'data/alignments/s1/bwbg8n.align',\n",
       " 'data/alignments/s1/bwbg9s.align',\n",
       " 'data/alignments/s1/bwbh1a.align',\n",
       " 'data/alignments/s1/bwbhzp.align',\n",
       " 'data/alignments/s1/bwbn2n.align',\n",
       " 'data/alignments/s1/bwbn3s.align',\n",
       " 'data/alignments/s1/bwbn4p.align',\n",
       " 'data/alignments/s1/bwbn5a.align',\n",
       " 'data/alignments/s1/bwbt6n.align',\n",
       " 'data/alignments/s1/bwbt7s.align',\n",
       " 'data/alignments/s1/bwbt8p.align',\n",
       " 'data/alignments/s1/bwbt9a.align',\n",
       " 'data/alignments/s1/bwig1s.align',\n",
       " 'data/alignments/s1/bwig2p.align',\n",
       " 'data/alignments/s1/bwig3a.align',\n",
       " 'data/alignments/s1/bwigzn.align',\n",
       " 'data/alignments/s1/bwim4n.align',\n",
       " 'data/alignments/s1/bwim5s.align',\n",
       " 'data/alignments/s1/bwim6p.align',\n",
       " 'data/alignments/s1/bwim7a.align',\n",
       " 'data/alignments/s1/bwis8n.align',\n",
       " 'data/alignments/s1/bwis9s.align',\n",
       " 'data/alignments/s1/bwit1a.align',\n",
       " 'data/alignments/s1/bwitzp.align',\n",
       " 'data/alignments/s1/bwwa8n.align',\n",
       " 'data/alignments/s1/bwwa9s.align',\n",
       " 'data/alignments/s1/bwwb1a.align',\n",
       " 'data/alignments/s1/bwwbzp.align',\n",
       " 'data/alignments/s1/bwwh2n.align',\n",
       " 'data/alignments/s1/bwwh3s.align',\n",
       " 'data/alignments/s1/bwwh4p.align',\n",
       " 'data/alignments/s1/bwwh5a.align',\n",
       " 'data/alignments/s1/bwwn6n.align',\n",
       " 'data/alignments/s1/bwwn7s.align',\n",
       " 'data/alignments/s1/bwwn8p.align',\n",
       " 'data/alignments/s1/bwwn9a.align',\n",
       " 'data/alignments/s1/bwwu1s.align',\n",
       " 'data/alignments/s1/bwwu2p.align',\n",
       " 'data/alignments/s1/bwwu3a.align',\n",
       " 'data/alignments/s1/bwwuzn.align',\n",
       " 'data/alignments/s1/lbad6n.align',\n",
       " 'data/alignments/s1/lbad7s.align',\n",
       " 'data/alignments/s1/lbad8p.align',\n",
       " 'data/alignments/s1/lbad9a.align',\n",
       " 'data/alignments/s1/lbak1s.align',\n",
       " 'data/alignments/s1/lbak2p.align',\n",
       " 'data/alignments/s1/lbak3a.align',\n",
       " 'data/alignments/s1/lbakzn.align',\n",
       " 'data/alignments/s1/lbaq4n.align',\n",
       " 'data/alignments/s1/lbaq5s.align',\n",
       " 'data/alignments/s1/lbaq6p.align',\n",
       " 'data/alignments/s1/lbaq7a.align',\n",
       " 'data/alignments/s1/lbax8n.align',\n",
       " 'data/alignments/s1/lbax9s.align',\n",
       " 'data/alignments/s1/lbay1a.align',\n",
       " 'data/alignments/s1/lbayzp.align',\n",
       " 'data/alignments/s1/lbbe1s.align',\n",
       " 'data/alignments/s1/lbbe2p.align',\n",
       " 'data/alignments/s1/lbbe3a.align',\n",
       " 'data/alignments/s1/lbbezn.align',\n",
       " 'data/alignments/s1/lbbk4n.align',\n",
       " 'data/alignments/s1/lbbk5s.align',\n",
       " 'data/alignments/s1/lbbk6p.align',\n",
       " 'data/alignments/s1/lbbk7a.align',\n",
       " 'data/alignments/s1/lbbq8n.align',\n",
       " 'data/alignments/s1/lbbq9s.align',\n",
       " 'data/alignments/s1/lbbr1a.align',\n",
       " 'data/alignments/s1/lbbrzp.align',\n",
       " 'data/alignments/s1/lbby2n.align',\n",
       " 'data/alignments/s1/lbby3s.align',\n",
       " 'data/alignments/s1/lbby4p.align',\n",
       " 'data/alignments/s1/lbby5a.align',\n",
       " 'data/alignments/s1/lbid2n.align',\n",
       " 'data/alignments/s1/lbid3s.align',\n",
       " 'data/alignments/s1/lbid4p.align',\n",
       " 'data/alignments/s1/lbid5a.align',\n",
       " 'data/alignments/s1/lbij6n.align',\n",
       " 'data/alignments/s1/lbij7s.align',\n",
       " 'data/alignments/s1/lbij8p.align',\n",
       " 'data/alignments/s1/lbij9a.align',\n",
       " 'data/alignments/s1/lbiq1s.align',\n",
       " 'data/alignments/s1/lbiq2p.align',\n",
       " 'data/alignments/s1/lbiq3a.align',\n",
       " 'data/alignments/s1/lbiqzn.align',\n",
       " 'data/alignments/s1/lbix4n.align',\n",
       " 'data/alignments/s1/lbix5s.align',\n",
       " 'data/alignments/s1/lbix6p.align',\n",
       " 'data/alignments/s1/lbix7a.align',\n",
       " 'data/alignments/s1/lbwe4n.align',\n",
       " 'data/alignments/s1/lbwe5s.align',\n",
       " 'data/alignments/s1/lbwe6p.align',\n",
       " 'data/alignments/s1/lbwe7a.align',\n",
       " 'data/alignments/s1/lbwk8n.align',\n",
       " 'data/alignments/s1/lbwk9s.align',\n",
       " 'data/alignments/s1/lbwl1a.align',\n",
       " 'data/alignments/s1/lbwlzp.align',\n",
       " 'data/alignments/s1/lbwr2n.align',\n",
       " 'data/alignments/s1/lbwr3s.align',\n",
       " 'data/alignments/s1/lbwr4p.align',\n",
       " 'data/alignments/s1/lbwr5a.align',\n",
       " 'data/alignments/s1/lbwy6n.align',\n",
       " 'data/alignments/s1/lbwy7s.align',\n",
       " 'data/alignments/s1/lbwy8p.align',\n",
       " 'data/alignments/s1/lbwy9a.align',\n",
       " 'data/alignments/s1/lgaf4n.align',\n",
       " 'data/alignments/s1/lgaf5s.align',\n",
       " 'data/alignments/s1/lgaf6p.align',\n",
       " 'data/alignments/s1/lgaf7a.align',\n",
       " 'data/alignments/s1/lgal8n.align',\n",
       " 'data/alignments/s1/lgal9s.align',\n",
       " 'data/alignments/s1/lgam1a.align',\n",
       " 'data/alignments/s1/lgamzp.align',\n",
       " 'data/alignments/s1/lgas2n.align',\n",
       " 'data/alignments/s1/lgas3s.align',\n",
       " 'data/alignments/s1/lgas4p.align',\n",
       " 'data/alignments/s1/lgas5a.align',\n",
       " 'data/alignments/s1/lgaz6n.align',\n",
       " 'data/alignments/s1/lgaz7s.align',\n",
       " 'data/alignments/s1/lgaz8p.align',\n",
       " 'data/alignments/s1/lgaz9a.align',\n",
       " 'data/alignments/s1/lgbf8n.align',\n",
       " 'data/alignments/s1/lgbf9s.align',\n",
       " 'data/alignments/s1/lgbg1a.align',\n",
       " 'data/alignments/s1/lgbgzp.align',\n",
       " 'data/alignments/s1/lgbm2n.align',\n",
       " 'data/alignments/s1/lgbm3s.align',\n",
       " 'data/alignments/s1/lgbm4p.align',\n",
       " 'data/alignments/s1/lgbm5a.align',\n",
       " 'data/alignments/s1/lgbs6n.align',\n",
       " 'data/alignments/s1/lgbs7s.align',\n",
       " 'data/alignments/s1/lgbs8p.align',\n",
       " 'data/alignments/s1/lgbs9a.align',\n",
       " 'data/alignments/s1/lgif1s.align',\n",
       " 'data/alignments/s1/lgif2p.align',\n",
       " 'data/alignments/s1/lgif3a.align',\n",
       " 'data/alignments/s1/lgifzn.align',\n",
       " 'data/alignments/s1/lgil4n.align',\n",
       " 'data/alignments/s1/lgil5s.align',\n",
       " 'data/alignments/s1/lgil6p.align',\n",
       " 'data/alignments/s1/lgil7a.align',\n",
       " 'data/alignments/s1/lgir8n.align',\n",
       " 'data/alignments/s1/lgir9s.align',\n",
       " 'data/alignments/s1/lgis1a.align',\n",
       " 'data/alignments/s1/lgiszp.align',\n",
       " 'data/alignments/s1/lgiz2n.align',\n",
       " 'data/alignments/s1/lgiz3s.align',\n",
       " 'data/alignments/s1/lgiz4p.align',\n",
       " 'data/alignments/s1/lgiz5a.align',\n",
       " 'data/alignments/s1/lgwa1a.align',\n",
       " 'data/alignments/s1/lgwazp.align',\n",
       " 'data/alignments/s1/lgwg2n.align',\n",
       " 'data/alignments/s1/lgwg3s.align',\n",
       " 'data/alignments/s1/lgwg4p.align',\n",
       " 'data/alignments/s1/lgwg5a.align',\n",
       " 'data/alignments/s1/lgwm6n.align',\n",
       " 'data/alignments/s1/lgwm7s.align',\n",
       " 'data/alignments/s1/lgwm8p.align',\n",
       " 'data/alignments/s1/lgwm9a.align',\n",
       " 'data/alignments/s1/lgwt1s.align',\n",
       " 'data/alignments/s1/lgwt2p.align',\n",
       " 'data/alignments/s1/lgwt3a.align',\n",
       " 'data/alignments/s1/lgwtzn.align',\n",
       " 'data/alignments/s1/lrae2n.align',\n",
       " 'data/alignments/s1/lrae3s.align',\n",
       " 'data/alignments/s1/lrae4p.align',\n",
       " 'data/alignments/s1/lrae5a.align',\n",
       " 'data/alignments/s1/lrak6n.align',\n",
       " 'data/alignments/s1/lrak7s.align',\n",
       " 'data/alignments/s1/lrak8p.align',\n",
       " 'data/alignments/s1/lrak9a.align',\n",
       " 'data/alignments/s1/lrar1s.align',\n",
       " 'data/alignments/s1/lrar2p.align',\n",
       " 'data/alignments/s1/lrar3a.align',\n",
       " 'data/alignments/s1/lrarzn.align',\n",
       " 'data/alignments/s1/lray4n.align',\n",
       " 'data/alignments/s1/lray5s.align',\n",
       " 'data/alignments/s1/lray6p.align',\n",
       " 'data/alignments/s1/lray7a.align',\n",
       " 'data/alignments/s1/lrbe6n.align',\n",
       " 'data/alignments/s1/lrbe7s.align',\n",
       " 'data/alignments/s1/lrbe8p.align',\n",
       " 'data/alignments/s1/lrbe9a.align',\n",
       " 'data/alignments/s1/lrbl1s.align',\n",
       " 'data/alignments/s1/lrbl2p.align',\n",
       " 'data/alignments/s1/lrbl3a.align',\n",
       " 'data/alignments/s1/lrblzn.align',\n",
       " 'data/alignments/s1/lrbr4n.align',\n",
       " 'data/alignments/s1/lrbr5s.align',\n",
       " 'data/alignments/s1/lrbr6p.align',\n",
       " 'data/alignments/s1/lrbr7a.align',\n",
       " 'data/alignments/s1/lrby8n.align',\n",
       " 'data/alignments/s1/lrby9s.align',\n",
       " 'data/alignments/s1/lrbz1a.align',\n",
       " 'data/alignments/s1/lrbzzp.align',\n",
       " 'data/alignments/s1/lrid8n.align',\n",
       " 'data/alignments/s1/lrid9s.align',\n",
       " 'data/alignments/s1/lrie1a.align',\n",
       " 'data/alignments/s1/lriezp.align',\n",
       " 'data/alignments/s1/lrik2n.align',\n",
       " 'data/alignments/s1/lrik3s.align',\n",
       " 'data/alignments/s1/lrik4p.align',\n",
       " 'data/alignments/s1/lrik5a.align',\n",
       " 'data/alignments/s1/lriq6n.align',\n",
       " 'data/alignments/s1/lriq7s.align',\n",
       " 'data/alignments/s1/lriq8p.align',\n",
       " 'data/alignments/s1/lriq9a.align',\n",
       " 'data/alignments/s1/lriy1s.align',\n",
       " 'data/alignments/s1/lriy2p.align',\n",
       " 'data/alignments/s1/lriy3a.align',\n",
       " 'data/alignments/s1/lriyzn.align',\n",
       " 'data/alignments/s1/lrwf1s.align',\n",
       " 'data/alignments/s1/lrwf2p.align',\n",
       " 'data/alignments/s1/lrwf3a.align',\n",
       " 'data/alignments/s1/lrwfzn.align',\n",
       " 'data/alignments/s1/lrwl4n.align',\n",
       " 'data/alignments/s1/lrwl5s.align',\n",
       " 'data/alignments/s1/lrwl6p.align',\n",
       " 'data/alignments/s1/lrwl7a.align',\n",
       " 'data/alignments/s1/lrwr8n.align',\n",
       " 'data/alignments/s1/lrwr9s.align',\n",
       " 'data/alignments/s1/lrws1a.align',\n",
       " 'data/alignments/s1/lrwszp.align',\n",
       " 'data/alignments/s1/lrwz2n.align',\n",
       " 'data/alignments/s1/lrwz3s.align',\n",
       " 'data/alignments/s1/lrwz4p.align',\n",
       " 'data/alignments/s1/lrwz5a.align',\n",
       " 'data/alignments/s1/lwae8n.align',\n",
       " 'data/alignments/s1/lwae9s.align',\n",
       " 'data/alignments/s1/lwaf1a.align',\n",
       " 'data/alignments/s1/lwafzp.align',\n",
       " 'data/alignments/s1/lwal2n.align',\n",
       " 'data/alignments/s1/lwal3s.align',\n",
       " 'data/alignments/s1/lwal4p.align',\n",
       " 'data/alignments/s1/lwal5a.align',\n",
       " 'data/alignments/s1/lwar6n.align',\n",
       " 'data/alignments/s1/lwar7s.align',\n",
       " 'data/alignments/s1/lwar8p.align',\n",
       " 'data/alignments/s1/lwar9a.align',\n",
       " 'data/alignments/s1/lwaz1s.align',\n",
       " 'data/alignments/s1/lwaz2p.align',\n",
       " 'data/alignments/s1/lwaz3a.align',\n",
       " 'data/alignments/s1/lwazzn.align',\n",
       " 'data/alignments/s1/lwbf2n.align',\n",
       " 'data/alignments/s1/lwbf3s.align',\n",
       " 'data/alignments/s1/lwbf4p.align',\n",
       " 'data/alignments/s1/lwbf5a.align',\n",
       " 'data/alignments/s1/lwbl6n.align',\n",
       " 'data/alignments/s1/lwbl7s.align',\n",
       " 'data/alignments/s1/lwbl8p.align',\n",
       " 'data/alignments/s1/lwbl9a.align',\n",
       " 'data/alignments/s1/lwbs1s.align',\n",
       " 'data/alignments/s1/lwbs2p.align',\n",
       " 'data/alignments/s1/lwbs3a.align',\n",
       " 'data/alignments/s1/lwbszn.align',\n",
       " 'data/alignments/s1/lwbz4n.align',\n",
       " 'data/alignments/s1/lwbz5s.align',\n",
       " 'data/alignments/s1/lwbz6p.align',\n",
       " 'data/alignments/s1/lwbz7a.align',\n",
       " 'data/alignments/s1/lwie4n.align',\n",
       " 'data/alignments/s1/lwie5s.align',\n",
       " 'data/alignments/s1/lwie6p.align',\n",
       " 'data/alignments/s1/lwie7a.align',\n",
       " 'data/alignments/s1/lwik8n.align',\n",
       " 'data/alignments/s1/lwik9s.align',\n",
       " 'data/alignments/s1/lwil1a.align',\n",
       " 'data/alignments/s1/lwilzp.align',\n",
       " 'data/alignments/s1/lwir2n.align',\n",
       " 'data/alignments/s1/lwir3s.align',\n",
       " 'data/alignments/s1/lwir4p.align',\n",
       " 'data/alignments/s1/lwir5a.align',\n",
       " 'data/alignments/s1/lwiy6n.align',\n",
       " 'data/alignments/s1/lwiy7s.align',\n",
       " 'data/alignments/s1/lwiy8p.align',\n",
       " 'data/alignments/s1/lwiy9a.align',\n",
       " 'data/alignments/s1/lwwf6n.align',\n",
       " 'data/alignments/s1/lwwf7s.align',\n",
       " 'data/alignments/s1/lwwf8p.align',\n",
       " 'data/alignments/s1/lwwf9a.align',\n",
       " 'data/alignments/s1/lwwm1s.align',\n",
       " 'data/alignments/s1/lwwm2p.align',\n",
       " 'data/alignments/s1/lwwm3a.align',\n",
       " 'data/alignments/s1/lwwmzn.align',\n",
       " 'data/alignments/s1/lwws4n.align',\n",
       " 'data/alignments/s1/lwws5s.align',\n",
       " 'data/alignments/s1/lwws6p.align',\n",
       " 'data/alignments/s1/lwws7a.align',\n",
       " 'data/alignments/s1/lwwz8n.align',\n",
       " 'data/alignments/s1/lwwz9s.align',\n",
       " 'data/alignments/s1/pbac1s.align',\n",
       " 'data/alignments/s1/pbac2p.align',\n",
       " 'data/alignments/s1/pbac3a.align',\n",
       " 'data/alignments/s1/pbaczn.align',\n",
       " 'data/alignments/s1/pbai4n.align',\n",
       " 'data/alignments/s1/pbai5s.align',\n",
       " 'data/alignments/s1/pbai6p.align',\n",
       " 'data/alignments/s1/pbai7a.align',\n",
       " 'data/alignments/s1/pbao8n.align',\n",
       " 'data/alignments/s1/pbao9s.align',\n",
       " 'data/alignments/s1/pbap1a.align',\n",
       " 'data/alignments/s1/pbapzp.align',\n",
       " 'data/alignments/s1/pbav2n.align',\n",
       " 'data/alignments/s1/pbav3s.align',\n",
       " 'data/alignments/s1/pbav4p.align',\n",
       " 'data/alignments/s1/pbav5a.align',\n",
       " 'data/alignments/s1/pbbc4n.align',\n",
       " 'data/alignments/s1/pbbc5s.align',\n",
       " 'data/alignments/s1/pbbc6p.align',\n",
       " 'data/alignments/s1/pbbc7a.align',\n",
       " 'data/alignments/s1/pbbi8n.align',\n",
       " 'data/alignments/s1/pbbi9s.align',\n",
       " 'data/alignments/s1/pbbj1a.align',\n",
       " 'data/alignments/s1/pbbjzp.align',\n",
       " 'data/alignments/s1/pbbp2n.align',\n",
       " 'data/alignments/s1/pbbp3s.align',\n",
       " 'data/alignments/s1/pbbp4p.align',\n",
       " 'data/alignments/s1/pbbp5a.align',\n",
       " 'data/alignments/s1/pbbv6n.align',\n",
       " 'data/alignments/s1/pbbv7s.align',\n",
       " 'data/alignments/s1/pbbv8p.align',\n",
       " 'data/alignments/s1/pbbv9a.align',\n",
       " 'data/alignments/s1/pbib6n.align',\n",
       " 'data/alignments/s1/pbib7s.align',\n",
       " 'data/alignments/s1/pbib8p.align',\n",
       " 'data/alignments/s1/pbib9a.align',\n",
       " 'data/alignments/s1/pbii1s.align',\n",
       " 'data/alignments/s1/pbii2p.align',\n",
       " 'data/alignments/s1/pbii3a.align',\n",
       " 'data/alignments/s1/pbiizn.align',\n",
       " 'data/alignments/s1/pbio4n.align',\n",
       " 'data/alignments/s1/pbio5s.align',\n",
       " 'data/alignments/s1/pbio6p.align',\n",
       " 'data/alignments/s1/pbio7a.align',\n",
       " 'data/alignments/s1/pbiu8n.align',\n",
       " 'data/alignments/s1/pbiu9s.align',\n",
       " 'data/alignments/s1/pbiv1a.align',\n",
       " 'data/alignments/s1/pbivzp.align',\n",
       " 'data/alignments/s1/pbwc8n.align',\n",
       " 'data/alignments/s1/pbwc9s.align',\n",
       " 'data/alignments/s1/pbwd1a.align',\n",
       " 'data/alignments/s1/pbwdzp.align',\n",
       " 'data/alignments/s1/pbwj2n.align',\n",
       " 'data/alignments/s1/pbwj3s.align',\n",
       " 'data/alignments/s1/pbwj4p.align',\n",
       " 'data/alignments/s1/pbwj5a.align',\n",
       " 'data/alignments/s1/pbwp6n.align',\n",
       " 'data/alignments/s1/pbwp7s.align',\n",
       " 'data/alignments/s1/pbwp8p.align',\n",
       " 'data/alignments/s1/pbwp9a.align',\n",
       " 'data/alignments/s1/pbwx1s.align',\n",
       " 'data/alignments/s1/pbwx2p.align',\n",
       " 'data/alignments/s1/pbwx3a.align',\n",
       " 'data/alignments/s1/pbwxzn.align',\n",
       " 'data/alignments/s1/pgad8n.align',\n",
       " 'data/alignments/s1/pgad9s.align',\n",
       " 'data/alignments/s1/pgae1a.align',\n",
       " 'data/alignments/s1/pgaezp.align',\n",
       " 'data/alignments/s1/pgak2n.align',\n",
       " 'data/alignments/s1/pgak3s.align',\n",
       " 'data/alignments/s1/pgak4p.align',\n",
       " 'data/alignments/s1/pgak5a.align',\n",
       " 'data/alignments/s1/pgaq6n.align',\n",
       " 'data/alignments/s1/pgaq7s.align',\n",
       " 'data/alignments/s1/pgaq8p.align',\n",
       " 'data/alignments/s1/pgaq9a.align',\n",
       " 'data/alignments/s1/pgay1s.align',\n",
       " 'data/alignments/s1/pgay2p.align',\n",
       " 'data/alignments/s1/pgay3a.align',\n",
       " 'data/alignments/s1/pgayzn.align',\n",
       " 'data/alignments/s1/pgbe2n.align',\n",
       " 'data/alignments/s1/pgbe3s.align',\n",
       " 'data/alignments/s1/pgbe4p.align',\n",
       " 'data/alignments/s1/pgbe5a.align',\n",
       " 'data/alignments/s1/pgbk6n.align',\n",
       " 'data/alignments/s1/pgbk7s.align',\n",
       " 'data/alignments/s1/pgbk8p.align',\n",
       " 'data/alignments/s1/pgbk9a.align',\n",
       " 'data/alignments/s1/pgbr1s.align',\n",
       " 'data/alignments/s1/pgbr2p.align',\n",
       " 'data/alignments/s1/pgbr3a.align',\n",
       " 'data/alignments/s1/pgbrzn.align',\n",
       " 'data/alignments/s1/pgby4n.align',\n",
       " 'data/alignments/s1/pgby5s.align',\n",
       " 'data/alignments/s1/pgby6p.align',\n",
       " 'data/alignments/s1/pgby7a.align',\n",
       " 'data/alignments/s1/pgid4n.align',\n",
       " 'data/alignments/s1/pgid5s.align',\n",
       " 'data/alignments/s1/pgid6p.align',\n",
       " 'data/alignments/s1/pgid7a.align',\n",
       " 'data/alignments/s1/pgij8n.align',\n",
       " 'data/alignments/s1/pgij9s.align',\n",
       " 'data/alignments/s1/pgik1a.align',\n",
       " 'data/alignments/s1/pgikzp.align',\n",
       " 'data/alignments/s1/pgiq2n.align',\n",
       " 'data/alignments/s1/pgiq3s.align',\n",
       " 'data/alignments/s1/pgiq4p.align',\n",
       " 'data/alignments/s1/pgiq5a.align',\n",
       " 'data/alignments/s1/pgix6n.align',\n",
       " 'data/alignments/s1/pgix7s.align',\n",
       " 'data/alignments/s1/pgix8p.align',\n",
       " 'data/alignments/s1/pgix9a.align',\n",
       " 'data/alignments/s1/pgwe6n.align',\n",
       " 'data/alignments/s1/pgwe7s.align',\n",
       " 'data/alignments/s1/pgwe8p.align',\n",
       " 'data/alignments/s1/pgwe9a.align',\n",
       " 'data/alignments/s1/pgwl1s.align',\n",
       " 'data/alignments/s1/pgwl2p.align',\n",
       " 'data/alignments/s1/pgwl3a.align',\n",
       " 'data/alignments/s1/pgwlzn.align',\n",
       " 'data/alignments/s1/pgwr4n.align',\n",
       " 'data/alignments/s1/pgwr5s.align',\n",
       " 'data/alignments/s1/pgwr6p.align',\n",
       " 'data/alignments/s1/pgwr7a.align',\n",
       " 'data/alignments/s1/pgwy8n.align',\n",
       " 'data/alignments/s1/pgwy9s.align',\n",
       " 'data/alignments/s1/pgwz1a.align',\n",
       " 'data/alignments/s1/pgwzzp.align',\n",
       " 'data/alignments/s1/prac6n.align',\n",
       " 'data/alignments/s1/prac7s.align',\n",
       " 'data/alignments/s1/prac8p.align',\n",
       " 'data/alignments/s1/prac9a.align',\n",
       " 'data/alignments/s1/praj1s.align',\n",
       " 'data/alignments/s1/praj2p.align',\n",
       " 'data/alignments/s1/praj3a.align',\n",
       " 'data/alignments/s1/prajzn.align',\n",
       " 'data/alignments/s1/prap4n.align',\n",
       " 'data/alignments/s1/prap5s.align',\n",
       " 'data/alignments/s1/prap6p.align',\n",
       " 'data/alignments/s1/prap7a.align',\n",
       " 'data/alignments/s1/prav8n.align',\n",
       " 'data/alignments/s1/prav9s.align',\n",
       " 'data/alignments/s1/prax1a.align',\n",
       " 'data/alignments/s1/praxzp.align',\n",
       " 'data/alignments/s1/prbd1s.align',\n",
       " 'data/alignments/s1/prbd2p.align',\n",
       " 'data/alignments/s1/prbd3a.align',\n",
       " 'data/alignments/s1/prbdzn.align',\n",
       " 'data/alignments/s1/prbj4n.align',\n",
       " 'data/alignments/s1/prbj5s.align',\n",
       " 'data/alignments/s1/prbj6p.align',\n",
       " 'data/alignments/s1/prbj7a.align',\n",
       " 'data/alignments/s1/prbp8n.align',\n",
       " 'data/alignments/s1/prbp9s.align',\n",
       " 'data/alignments/s1/prbq1a.align',\n",
       " 'data/alignments/s1/prbqzp.align',\n",
       " 'data/alignments/s1/prbx2n.align',\n",
       " 'data/alignments/s1/prbx3s.align',\n",
       " 'data/alignments/s1/prbx4p.align',\n",
       " 'data/alignments/s1/prbx5a.align',\n",
       " 'data/alignments/s1/pric2n.align',\n",
       " 'data/alignments/s1/pric3s.align',\n",
       " 'data/alignments/s1/pric4p.align',\n",
       " 'data/alignments/s1/pric5a.align',\n",
       " 'data/alignments/s1/prii6n.align',\n",
       " 'data/alignments/s1/prii7s.align',\n",
       " 'data/alignments/s1/prii8p.align',\n",
       " 'data/alignments/s1/prii9a.align',\n",
       " 'data/alignments/s1/prip1s.align',\n",
       " 'data/alignments/s1/prip2p.align',\n",
       " 'data/alignments/s1/prip3a.align',\n",
       " 'data/alignments/s1/pripzn.align',\n",
       " 'data/alignments/s1/priv4n.align',\n",
       " 'data/alignments/s1/priv5s.align',\n",
       " 'data/alignments/s1/priv6p.align',\n",
       " 'data/alignments/s1/priv7a.align',\n",
       " 'data/alignments/s1/prwd4n.align',\n",
       " 'data/alignments/s1/prwd5s.align',\n",
       " 'data/alignments/s1/prwd6p.align',\n",
       " 'data/alignments/s1/prwd7a.align',\n",
       " 'data/alignments/s1/prwj8n.align',\n",
       " 'data/alignments/s1/prwj9s.align',\n",
       " 'data/alignments/s1/prwk1a.align',\n",
       " 'data/alignments/s1/prwkzp.align',\n",
       " 'data/alignments/s1/prwq2n.align',\n",
       " 'data/alignments/s1/prwq3s.align',\n",
       " 'data/alignments/s1/prwq4p.align',\n",
       " 'data/alignments/s1/prwq5a.align',\n",
       " 'data/alignments/s1/prwx6n.align',\n",
       " 'data/alignments/s1/prwx7s.align',\n",
       " 'data/alignments/s1/prwx8p.align',\n",
       " 'data/alignments/s1/prwx9a.align',\n",
       " 'data/alignments/s1/pwad2n.align',\n",
       " 'data/alignments/s1/pwad3s.align',\n",
       " 'data/alignments/s1/pwad4p.align',\n",
       " 'data/alignments/s1/pwad5a.align',\n",
       " 'data/alignments/s1/pwaj6n.align',\n",
       " 'data/alignments/s1/pwaj7s.align',\n",
       " 'data/alignments/s1/pwaj8p.align',\n",
       " 'data/alignments/s1/pwaj9a.align',\n",
       " 'data/alignments/s1/pwaq1s.align',\n",
       " 'data/alignments/s1/pwaq2p.align',\n",
       " 'data/alignments/s1/pwaq3a.align',\n",
       " 'data/alignments/s1/pwaqzn.align',\n",
       " 'data/alignments/s1/pwax4n.align',\n",
       " 'data/alignments/s1/pwax5s.align',\n",
       " 'data/alignments/s1/pwax6p.align',\n",
       " 'data/alignments/s1/pwax7a.align',\n",
       " 'data/alignments/s1/pwbd6n.align',\n",
       " 'data/alignments/s1/pwbd7s.align',\n",
       " 'data/alignments/s1/pwbd8p.align',\n",
       " 'data/alignments/s1/pwbd9a.align',\n",
       " 'data/alignments/s1/pwbk1s.align',\n",
       " 'data/alignments/s1/pwbk2p.align',\n",
       " 'data/alignments/s1/pwbk3a.align',\n",
       " 'data/alignments/s1/pwbkzn.align',\n",
       " 'data/alignments/s1/pwbq4n.align',\n",
       " 'data/alignments/s1/pwbq5s.align',\n",
       " 'data/alignments/s1/pwbq6p.align',\n",
       " 'data/alignments/s1/pwbq7a.align',\n",
       " 'data/alignments/s1/pwbx8n.align',\n",
       " 'data/alignments/s1/pwbx9s.align',\n",
       " 'data/alignments/s1/pwby1a.align',\n",
       " 'data/alignments/s1/pwbyzp.align',\n",
       " 'data/alignments/s1/pwic8n.align',\n",
       " 'data/alignments/s1/pwic9s.align',\n",
       " 'data/alignments/s1/pwid1a.align',\n",
       " 'data/alignments/s1/pwidzp.align',\n",
       " 'data/alignments/s1/pwij2n.align',\n",
       " 'data/alignments/s1/pwij3s.align',\n",
       " 'data/alignments/s1/pwij4p.align',\n",
       " 'data/alignments/s1/pwij5a.align',\n",
       " 'data/alignments/s1/pwip6n.align',\n",
       " 'data/alignments/s1/pwip7s.align',\n",
       " 'data/alignments/s1/pwip8p.align',\n",
       " 'data/alignments/s1/pwip9a.align',\n",
       " 'data/alignments/s1/pwix1s.align',\n",
       " 'data/alignments/s1/pwix2p.align',\n",
       " 'data/alignments/s1/pwix3a.align',\n",
       " 'data/alignments/s1/pwixzn.align',\n",
       " 'data/alignments/s1/pwwe1s.align',\n",
       " 'data/alignments/s1/pwwe2p.align',\n",
       " 'data/alignments/s1/pwwe3a.align',\n",
       " 'data/alignments/s1/pwwezn.align',\n",
       " 'data/alignments/s1/pwwk4n.align',\n",
       " 'data/alignments/s1/pwwk5s.align',\n",
       " 'data/alignments/s1/pwwk6p.align',\n",
       " 'data/alignments/s1/pwwk7a.align',\n",
       " 'data/alignments/s1/pwwq8n.align',\n",
       " 'data/alignments/s1/pwwq9s.align',\n",
       " 'data/alignments/s1/pwwr1a.align',\n",
       " 'data/alignments/s1/pwwrzp.align',\n",
       " 'data/alignments/s1/pwwy2n.align',\n",
       " 'data/alignments/s1/pwwy3s.align',\n",
       " 'data/alignments/s1/pwwy4p.align',\n",
       " 'data/alignments/s1/pwwy5a.align',\n",
       " 'data/alignments/s1/sbaa4n.align',\n",
       " 'data/alignments/s1/sbaa5s.align',\n",
       " 'data/alignments/s1/sbaa6p.align',\n",
       " 'data/alignments/s1/sbaa7a.align',\n",
       " 'data/alignments/s1/sbag8n.align',\n",
       " 'data/alignments/s1/sbag9s.align',\n",
       " 'data/alignments/s1/sbah1a.align',\n",
       " 'data/alignments/s1/sbahzp.align',\n",
       " 'data/alignments/s1/sban2n.align',\n",
       " 'data/alignments/s1/sban3s.align',\n",
       " 'data/alignments/s1/sban4p.align',\n",
       " 'data/alignments/s1/sban5a.align',\n",
       " 'data/alignments/s1/sbat6n.align',\n",
       " 'data/alignments/s1/sbat7s.align',\n",
       " 'data/alignments/s1/sbat8p.align',\n",
       " 'data/alignments/s1/sbat9a.align',\n",
       " 'data/alignments/s1/sbba8n.align',\n",
       " 'data/alignments/s1/sbba9s.align',\n",
       " 'data/alignments/s1/sbbb1a.align',\n",
       " 'data/alignments/s1/sbbbzp.align',\n",
       " 'data/alignments/s1/sbbh2n.align',\n",
       " 'data/alignments/s1/sbbh3s.align',\n",
       " 'data/alignments/s1/sbbh4p.align',\n",
       " 'data/alignments/s1/sbbh5a.align',\n",
       " 'data/alignments/s1/sbbn6n.align',\n",
       " 'data/alignments/s1/sbbn7s.align',\n",
       " 'data/alignments/s1/sbbn8p.align',\n",
       " 'data/alignments/s1/sbbn9a.align',\n",
       " 'data/alignments/s1/sbbu1s.align',\n",
       " 'data/alignments/s1/sbbu2p.align',\n",
       " 'data/alignments/s1/sbbu3a.align',\n",
       " 'data/alignments/s1/sbbuzn.align',\n",
       " 'data/alignments/s1/sbia1s.align',\n",
       " 'data/alignments/s1/sbia2p.align',\n",
       " 'data/alignments/s1/sbia3a.align',\n",
       " 'data/alignments/s1/sbiazn.align',\n",
       " 'data/alignments/s1/sbig4n.align',\n",
       " 'data/alignments/s1/sbig5s.align',\n",
       " 'data/alignments/s1/sbig6p.align',\n",
       " 'data/alignments/s1/sbig7a.align',\n",
       " 'data/alignments/s1/sbim8n.align',\n",
       " 'data/alignments/s1/sbim9s.align',\n",
       " 'data/alignments/s1/sbin1a.align',\n",
       " 'data/alignments/s1/sbinzp.align',\n",
       " 'data/alignments/s1/sbit2n.align',\n",
       " 'data/alignments/s1/sbit3s.align',\n",
       " 'data/alignments/s1/sbit4p.align',\n",
       " 'data/alignments/s1/sbit5a.align',\n",
       " 'data/alignments/s1/sbwb2n.align',\n",
       " 'data/alignments/s1/sbwb3s.align',\n",
       " 'data/alignments/s1/sbwb4p.align',\n",
       " 'data/alignments/s1/sbwb5a.align',\n",
       " 'data/alignments/s1/sbwh6n.align',\n",
       " 'data/alignments/s1/sbwh7s.align',\n",
       " 'data/alignments/s1/sbwh8p.align',\n",
       " 'data/alignments/s1/sbwh9a.align',\n",
       " 'data/alignments/s1/sbwo1s.align',\n",
       " 'data/alignments/s1/sbwo2p.align',\n",
       " 'data/alignments/s1/sbwo3a.align',\n",
       " 'data/alignments/s1/sbwozn.align',\n",
       " 'data/alignments/s1/sbwu4n.align',\n",
       " 'data/alignments/s1/sbwu5s.align',\n",
       " 'data/alignments/s1/sbwu6p.align',\n",
       " 'data/alignments/s1/sbwu7a.align',\n",
       " 'data/alignments/s1/sgac2n.align',\n",
       " 'data/alignments/s1/sgac3s.align',\n",
       " 'data/alignments/s1/sgac4p.align',\n",
       " 'data/alignments/s1/sgac5a.align',\n",
       " 'data/alignments/s1/sgai6n.align',\n",
       " 'data/alignments/s1/sgai7s.align',\n",
       " 'data/alignments/s1/sgai8p.align',\n",
       " 'data/alignments/s1/sgai9a.align',\n",
       " 'data/alignments/s1/sgap1s.align',\n",
       " 'data/alignments/s1/sgap2p.align',\n",
       " 'data/alignments/s1/sgap3a.align',\n",
       " 'data/alignments/s1/sgapzn.align',\n",
       " 'data/alignments/s1/sgav4n.align',\n",
       " 'data/alignments/s1/sgav5s.align',\n",
       " 'data/alignments/s1/sgav6p.align',\n",
       " 'data/alignments/s1/sgav7a.align',\n",
       " 'data/alignments/s1/sgbc6n.align',\n",
       " 'data/alignments/s1/sgbc7s.align',\n",
       " 'data/alignments/s1/sgbc8p.align',\n",
       " 'data/alignments/s1/sgbc9a.align',\n",
       " 'data/alignments/s1/sgbj1s.align',\n",
       " 'data/alignments/s1/sgbj2p.align',\n",
       " 'data/alignments/s1/sgbj3a.align',\n",
       " 'data/alignments/s1/sgbjzn.align',\n",
       " 'data/alignments/s1/sgbp4n.align',\n",
       " 'data/alignments/s1/sgbp5s.align',\n",
       " 'data/alignments/s1/sgbp6p.align',\n",
       " 'data/alignments/s1/sgbp7a.align',\n",
       " 'data/alignments/s1/sgbv8n.align',\n",
       " 'data/alignments/s1/sgbv9s.align',\n",
       " 'data/alignments/s1/sgbx1a.align',\n",
       " 'data/alignments/s1/sgbxzp.align',\n",
       " 'data/alignments/s1/sgib8n.align',\n",
       " 'data/alignments/s1/sgib9s.align',\n",
       " 'data/alignments/s1/sgic1a.align',\n",
       " 'data/alignments/s1/sgiczp.align',\n",
       " 'data/alignments/s1/sgii2n.align',\n",
       " 'data/alignments/s1/sgii3s.align',\n",
       " 'data/alignments/s1/sgii4p.align',\n",
       " 'data/alignments/s1/sgii5a.align',\n",
       " 'data/alignments/s1/sgio6n.align',\n",
       " 'data/alignments/s1/sgio7s.align',\n",
       " 'data/alignments/s1/sgio8p.align',\n",
       " 'data/alignments/s1/sgio9a.align',\n",
       " 'data/alignments/s1/sgiv1s.align',\n",
       " 'data/alignments/s1/sgiv2p.align',\n",
       " 'data/alignments/s1/sgiv3a.align',\n",
       " 'data/alignments/s1/sgivzn.align',\n",
       " 'data/alignments/s1/sgwd1s.align',\n",
       " 'data/alignments/s1/sgwd2p.align',\n",
       " 'data/alignments/s1/sgwd3a.align',\n",
       " 'data/alignments/s1/sgwdzn.align',\n",
       " 'data/alignments/s1/sgwj4n.align',\n",
       " 'data/alignments/s1/sgwj5s.align',\n",
       " 'data/alignments/s1/sgwj6p.align',\n",
       " 'data/alignments/s1/sgwj7a.align',\n",
       " 'data/alignments/s1/sgwp8n.align',\n",
       " 'data/alignments/s1/sgwp9s.align',\n",
       " 'data/alignments/s1/sgwq1a.align',\n",
       " 'data/alignments/s1/sgwqzp.align',\n",
       " 'data/alignments/s1/sgwx2n.align',\n",
       " 'data/alignments/s1/sgwx3s.align',\n",
       " 'data/alignments/s1/sgwx4p.align',\n",
       " 'data/alignments/s1/sgwx5a.align',\n",
       " 'data/alignments/s1/srab1s.align',\n",
       " 'data/alignments/s1/srab2p.align',\n",
       " 'data/alignments/s1/srab3a.align',\n",
       " 'data/alignments/s1/srabzn.align',\n",
       " 'data/alignments/s1/srah4n.align',\n",
       " 'data/alignments/s1/srah5s.align',\n",
       " 'data/alignments/s1/srah6p.align',\n",
       " 'data/alignments/s1/srah7a.align',\n",
       " 'data/alignments/s1/sran8n.align',\n",
       " 'data/alignments/s1/sran9s.align',\n",
       " 'data/alignments/s1/srao1a.align',\n",
       " 'data/alignments/s1/sraozp.align',\n",
       " 'data/alignments/s1/srau2n.align',\n",
       " 'data/alignments/s1/srau3s.align',\n",
       " 'data/alignments/s1/srau4p.align',\n",
       " 'data/alignments/s1/srau5a.align',\n",
       " 'data/alignments/s1/srbb4n.align',\n",
       " 'data/alignments/s1/srbb5s.align',\n",
       " 'data/alignments/s1/srbb6p.align',\n",
       " 'data/alignments/s1/srbb7a.align',\n",
       " 'data/alignments/s1/srbh8n.align',\n",
       " 'data/alignments/s1/srbh9s.align',\n",
       " 'data/alignments/s1/srbi1a.align',\n",
       " 'data/alignments/s1/srbizp.align',\n",
       " 'data/alignments/s1/srbo2n.align',\n",
       " 'data/alignments/s1/srbo3s.align',\n",
       " 'data/alignments/s1/srbo4p.align',\n",
       " 'data/alignments/s1/srbo5a.align',\n",
       " 'data/alignments/s1/srbu6n.align',\n",
       " 'data/alignments/s1/srbu7s.align',\n",
       " 'data/alignments/s1/srbu8p.align',\n",
       " 'data/alignments/s1/srbu9a.align',\n",
       " 'data/alignments/s1/sria6n.align',\n",
       " 'data/alignments/s1/sria7s.align',\n",
       " 'data/alignments/s1/sria8p.align',\n",
       " 'data/alignments/s1/sria9a.align',\n",
       " 'data/alignments/s1/srih1s.align',\n",
       " 'data/alignments/s1/srih2p.align',\n",
       " 'data/alignments/s1/srih3a.align',\n",
       " 'data/alignments/s1/srihzn.align',\n",
       " 'data/alignments/s1/srin4n.align',\n",
       " 'data/alignments/s1/srin5s.align',\n",
       " 'data/alignments/s1/srin6p.align',\n",
       " 'data/alignments/s1/srin7a.align',\n",
       " 'data/alignments/s1/srit8n.align',\n",
       " 'data/alignments/s1/srit9s.align',\n",
       " 'data/alignments/s1/sriu1a.align',\n",
       " 'data/alignments/s1/sriuzp.align',\n",
       " 'data/alignments/s1/srwb8n.align',\n",
       " 'data/alignments/s1/srwb9s.align',\n",
       " 'data/alignments/s1/srwc1a.align',\n",
       " 'data/alignments/s1/srwczp.align',\n",
       " 'data/alignments/s1/srwi2n.align',\n",
       " 'data/alignments/s1/srwi3s.align',\n",
       " 'data/alignments/s1/srwi4p.align',\n",
       " 'data/alignments/s1/srwi5a.align',\n",
       " 'data/alignments/s1/srwo6n.align',\n",
       " 'data/alignments/s1/srwo7s.align',\n",
       " 'data/alignments/s1/srwo8p.align',\n",
       " 'data/alignments/s1/srwo9a.align',\n",
       " 'data/alignments/s1/srwv1s.align',\n",
       " 'data/alignments/s1/srwv2p.align',\n",
       " 'data/alignments/s1/srwv3a.align',\n",
       " 'data/alignments/s1/srwvzn.align',\n",
       " 'data/alignments/s1/swab6n.align',\n",
       " 'data/alignments/s1/swab7s.align',\n",
       " 'data/alignments/s1/swab8p.align',\n",
       " 'data/alignments/s1/swab9a.align',\n",
       " 'data/alignments/s1/swai1s.align',\n",
       " 'data/alignments/s1/swai2p.align',\n",
       " 'data/alignments/s1/swai3a.align',\n",
       " 'data/alignments/s1/swaizn.align',\n",
       " 'data/alignments/s1/swao4n.align',\n",
       " 'data/alignments/s1/swao5s.align',\n",
       " 'data/alignments/s1/swao6p.align',\n",
       " 'data/alignments/s1/swao7a.align',\n",
       " 'data/alignments/s1/swau8n.align',\n",
       " 'data/alignments/s1/swau9s.align',\n",
       " 'data/alignments/s1/swav1a.align',\n",
       " 'data/alignments/s1/swavzp.align',\n",
       " 'data/alignments/s1/swbc1s.align',\n",
       " 'data/alignments/s1/swbc2p.align',\n",
       " 'data/alignments/s1/swbc3a.align',\n",
       " 'data/alignments/s1/swbczn.align',\n",
       " 'data/alignments/s1/swbi4n.align',\n",
       " 'data/alignments/s1/swbi5s.align',\n",
       " 'data/alignments/s1/swbi6p.align',\n",
       " 'data/alignments/s1/swbi7a.align',\n",
       " 'data/alignments/s1/swbo8n.align',\n",
       " 'data/alignments/s1/swbo9s.align',\n",
       " 'data/alignments/s1/swbp1a.align',\n",
       " 'data/alignments/s1/swbpzp.align',\n",
       " 'data/alignments/s1/swbv2n.align',\n",
       " 'data/alignments/s1/swbv3s.align',\n",
       " 'data/alignments/s1/swbv4p.align',\n",
       " 'data/alignments/s1/swbv5a.align',\n",
       " 'data/alignments/s1/swib2n.align',\n",
       " 'data/alignments/s1/swib3s.align',\n",
       " 'data/alignments/s1/swib4p.align',\n",
       " 'data/alignments/s1/swib5a.align',\n",
       " 'data/alignments/s1/swih6n.align',\n",
       " 'data/alignments/s1/swih7s.align',\n",
       " 'data/alignments/s1/swih8p.align',\n",
       " 'data/alignments/s1/swih9a.align',\n",
       " 'data/alignments/s1/swio1s.align',\n",
       " 'data/alignments/s1/swio2p.align',\n",
       " 'data/alignments/s1/swio3a.align',\n",
       " 'data/alignments/s1/swiozn.align',\n",
       " 'data/alignments/s1/swiu4n.align',\n",
       " 'data/alignments/s1/swiu5s.align',\n",
       " 'data/alignments/s1/swiu6p.align',\n",
       " 'data/alignments/s1/swiu7a.align',\n",
       " 'data/alignments/s1/swwc4n.align',\n",
       " 'data/alignments/s1/swwc5s.align',\n",
       " 'data/alignments/s1/swwc6p.align',\n",
       " 'data/alignments/s1/swwc7a.align',\n",
       " 'data/alignments/s1/swwi8n.align',\n",
       " 'data/alignments/s1/swwi9s.align',\n",
       " 'data/alignments/s1/swwj1a.align',\n",
       " 'data/alignments/s1/swwjzp.align',\n",
       " 'data/alignments/s1/swwp2n.align',\n",
       " 'data/alignments/s1/swwp3s.align',\n",
       " 'data/alignments/s1/swwp4p.align',\n",
       " 'data/alignments/s1/swwp5a.align',\n",
       " 'data/alignments/s1/swwv6n.align',\n",
       " ...]"
      ]
     },
     "execution_count": 10,
     "metadata": {},
     "output_type": "execute_result"
    }
   ],
   "source": [
    "url = 'https://drive.google.com/uc?id=1YlvpDLix3S-U8fd-gqRwPcWXAXm8JwjL'\n",
    "output = 'data.zip'\n",
    "gdown.download(url, output, quiet=False)\n",
    "gdown.extractall('data.zip')"
   ]
  },
  {
   "cell_type": "code",
   "execution_count": 11,
   "id": "8548cc59-6dfc-4acc-abc3-3e65212db02e",
   "metadata": {
    "tags": []
   },
   "outputs": [],
   "source": [
    "def load_video(path:str) -> List[float]: \n",
    "\n",
    "    cap = cv2.VideoCapture(path)\n",
    "    frames = []\n",
    "    for _ in range(int(cap.get(cv2.CAP_PROP_FRAME_COUNT))): \n",
    "        ret, frame = cap.read()\n",
    "        frame = tf.image.rgb_to_grayscale(frame)\n",
    "        frames.append(frame[190:236,80:220,:])\n",
    "    cap.release()\n",
    "    \n",
    "    mean = tf.math.reduce_mean(frames)\n",
    "    std = tf.math.reduce_std(tf.cast(frames, tf.float32))\n",
    "    return tf.cast((frames - mean), tf.float32) / std"
   ]
  },
  {
   "cell_type": "code",
   "execution_count": 12,
   "id": "ec735e0b-ec98-4eb0-8f49-c35527d6670a",
   "metadata": {
    "tags": []
   },
   "outputs": [],
   "source": [
    "vocab = [x for x in \"abcdefghijklmnopqrstuvwxyz'?!123456789 \"]"
   ]
  },
  {
   "cell_type": "code",
   "execution_count": 13,
   "id": "be04e972-d7a5-4a72-82d8-a6bdde1f3ce6",
   "metadata": {
    "tags": []
   },
   "outputs": [
    {
     "name": "stdout",
     "output_type": "stream",
     "text": [
      "The vocabulary is: ['', 'a', 'b', 'c', 'd', 'e', 'f', 'g', 'h', 'i', 'j', 'k', 'l', 'm', 'n', 'o', 'p', 'q', 'r', 's', 't', 'u', 'v', 'w', 'x', 'y', 'z', \"'\", '?', '!', '1', '2', '3', '4', '5', '6', '7', '8', '9', ' '] (size =40)\n"
     ]
    }
   ],
   "source": [
    "char_to_num = tf.keras.layers.StringLookup(vocabulary=vocab, oov_token=\"\")\n",
    "num_to_char = tf.keras.layers.StringLookup(\n",
    "    vocabulary=char_to_num.get_vocabulary(), oov_token=\"\", invert=True\n",
    ")\n",
    "\n",
    "print(\n",
    "    f\"The vocabulary is: {char_to_num.get_vocabulary()} \"\n",
    "    f\"(size ={char_to_num.vocabulary_size()})\"\n",
    ")"
   ]
  },
  {
   "cell_type": "code",
   "execution_count": 14,
   "id": "559f7420-6802-45fa-9ca0-b1ff209b461c",
   "metadata": {
    "tags": []
   },
   "outputs": [
    {
     "data": {
      "text/plain": [
       "['',\n",
       " 'a',\n",
       " 'b',\n",
       " 'c',\n",
       " 'd',\n",
       " 'e',\n",
       " 'f',\n",
       " 'g',\n",
       " 'h',\n",
       " 'i',\n",
       " 'j',\n",
       " 'k',\n",
       " 'l',\n",
       " 'm',\n",
       " 'n',\n",
       " 'o',\n",
       " 'p',\n",
       " 'q',\n",
       " 'r',\n",
       " 's',\n",
       " 't',\n",
       " 'u',\n",
       " 'v',\n",
       " 'w',\n",
       " 'x',\n",
       " 'y',\n",
       " 'z',\n",
       " \"'\",\n",
       " '?',\n",
       " '!',\n",
       " '1',\n",
       " '2',\n",
       " '3',\n",
       " '4',\n",
       " '5',\n",
       " '6',\n",
       " '7',\n",
       " '8',\n",
       " '9',\n",
       " ' ']"
      ]
     },
     "execution_count": 14,
     "metadata": {},
     "output_type": "execute_result"
    }
   ],
   "source": [
    "char_to_num.get_vocabulary()"
   ]
  },
  {
   "cell_type": "code",
   "execution_count": 15,
   "id": "797ff78b-b48f-4e14-bb62-8cd0ebf9501a",
   "metadata": {
    "tags": []
   },
   "outputs": [
    {
     "data": {
      "text/plain": [
       "<tf.Tensor: shape=(4,), dtype=int64, numpy=array([14,  9,  3, 11], dtype=int64)>"
      ]
     },
     "execution_count": 15,
     "metadata": {},
     "output_type": "execute_result"
    }
   ],
   "source": [
    "char_to_num(['n','i','c','k'])"
   ]
  },
  {
   "cell_type": "code",
   "execution_count": 16,
   "id": "8cd7f4f4-ae77-4509-a4f4-c723787ebad1",
   "metadata": {},
   "outputs": [
    {
     "data": {
      "text/plain": [
       "<tf.Tensor: shape=(4,), dtype=string, numpy=array([b'n', b'i', b'c', b'k'], dtype=object)>"
      ]
     },
     "execution_count": 16,
     "metadata": {},
     "output_type": "execute_result"
    }
   ],
   "source": [
    "num_to_char([14,  9,  3, 11])"
   ]
  },
  {
   "cell_type": "code",
   "execution_count": 17,
   "id": "9491bab5-6a3c-4f79-879a-8f9fbe73ae2e",
   "metadata": {
    "tags": []
   },
   "outputs": [],
   "source": [
    "def load_alignments(path:str) -> List[str]: \n",
    "    with open(path, 'r') as f: \n",
    "        lines = f.readlines() \n",
    "    tokens = []\n",
    "    for line in lines:\n",
    "        line = line.split()\n",
    "        if line[2] != 'sil': \n",
    "            tokens = [*tokens,' ',line[2]]\n",
    "    return char_to_num(tf.reshape(tf.strings.unicode_split(tokens, input_encoding='UTF-8'), (-1)))[1:]"
   ]
  },
  {
   "cell_type": "code",
   "execution_count": 18,
   "id": "dd01ca9f-77fb-4643-a2aa-47dd82c5d66b",
   "metadata": {
    "tags": []
   },
   "outputs": [],
   "source": [
    "def load_data(path: str): \n",
    "    path = bytes.decode(path.numpy())\n",
    "    #file_name = path.split('/')[-1].split('.')[0]\n",
    "    # File name splitting for windows\n",
    "    file_name = path.split('\\\\')[-1].split('.')[0]\n",
    "    video_path = os.path.join('data','s1',f'{file_name}.mpg')\n",
    "    alignment_path = os.path.join('data','alignments','s1',f'{file_name}.align')\n",
    "    frames = load_video(video_path) \n",
    "    alignments = load_alignments(alignment_path)\n",
    "    \n",
    "    return frames, alignments"
   ]
  },
  {
   "cell_type": "code",
   "execution_count": 19,
   "id": "8cb7cc58-31ae-4904-a805-1177a82717d2",
   "metadata": {
    "tags": []
   },
   "outputs": [],
   "source": [
    "test_path = '.\\\\data\\\\s1\\\\bbal6n.mpg'"
   ]
  },
  {
   "cell_type": "code",
   "execution_count": 20,
   "id": "76aa964f-0c84-490d-897a-d00e3966e2c9",
   "metadata": {},
   "outputs": [
    {
     "data": {
      "text/plain": [
       "'bbal6n'"
      ]
     },
     "execution_count": 20,
     "metadata": {},
     "output_type": "execute_result"
    }
   ],
   "source": [
    "tf.convert_to_tensor(test_path).numpy().decode('utf-8').split('\\\\')[-1].split('.')[0]"
   ]
  },
  {
   "cell_type": "code",
   "execution_count": 21,
   "id": "eb602c71-8560-4f9e-b26b-08202febb937",
   "metadata": {
    "scrolled": true,
    "tags": []
   },
   "outputs": [],
   "source": [
    "frames, alignments = load_data(tf.convert_to_tensor(test_path))"
   ]
  },
  {
   "cell_type": "code",
   "execution_count": 22,
   "id": "0e3184a1-6b02-4b4f-84a8-a0a65f951ea2",
   "metadata": {},
   "outputs": [
    {
     "data": {
      "text/plain": [
       "<matplotlib.image.AxesImage at 0x145a6f2bca0>"
      ]
     },
     "execution_count": 22,
     "metadata": {},
     "output_type": "execute_result"
    },
    {
     "data": {
      "image/png": "[encoded data removed]",
      "text/plain": [
       "<Figure size 640x480 with 1 Axes>"
      ]
     },
     "metadata": {},
     "output_type": "display_data"
    }
   ],
   "source": [
    "plt.imshow(frames[40])"
   ]
  },
  {
   "cell_type": "code",
   "execution_count": 23,
   "id": "d7ec0833-d54b-4073-84cf-92d011c60ec1",
   "metadata": {},
   "outputs": [
    {
     "data": {
      "text/plain": [
       "<tf.Tensor: shape=(21,), dtype=int64, numpy=\n",
       "array([ 2,  9, 14, 39,  2, 12, 21,  5, 39,  1, 20, 39, 12, 39, 19,  9, 24,\n",
       "       39, 14, 15, 23], dtype=int64)>"
      ]
     },
     "execution_count": 23,
     "metadata": {},
     "output_type": "execute_result"
    }
   ],
   "source": [
    "alignments"
   ]
  },
  {
   "cell_type": "code",
   "execution_count": 24,
   "id": "fe1ad370-b287-4b46-85a2-7c45b0bd9b10",
   "metadata": {},
   "outputs": [
    {
     "data": {
      "text/plain": [
       "<tf.Tensor: shape=(), dtype=string, numpy=b'bin blue at l six now'>"
      ]
     },
     "execution_count": 24,
     "metadata": {},
     "output_type": "execute_result"
    }
   ],
   "source": [
    "tf.strings.reduce_join([bytes.decode(x) for x in num_to_char(alignments.numpy()).numpy()])"
   ]
  },
  {
   "cell_type": "code",
   "execution_count": 25,
   "id": "6871031a-b0ba-4c76-a852-f6329b0f2606",
   "metadata": {
    "tags": []
   },
   "outputs": [],
   "source": [
    "def mappable_function(path:str) ->List[str]:\n",
    "    result = tf.py_function(load_data, [path], (tf.float32, tf.int64))\n",
    "    return result"
   ]
  },
  {
   "cell_type": "markdown",
   "id": "c40a7eb4-0c3e-4eab-9291-5611cb68ce08",
   "metadata": {
    "tags": []
   },
   "source": [
    "# 2. Create Data Pipeline"
   ]
  },
  {
   "cell_type": "code",
   "execution_count": 26,
   "id": "7686355d-45aa-4c85-ad9c-053e6a9b4d81",
   "metadata": {
    "tags": []
   },
   "outputs": [],
   "source": [
    "from matplotlib import pyplot as plt"
   ]
  },
  {
   "cell_type": "code",
   "execution_count": 27,
   "id": "f066fea2-91b1-42ed-a67d-00566a1a53ff",
   "metadata": {
    "tags": []
   },
   "outputs": [],
   "source": [
    "data = tf.data.Dataset.list_files('./data/s1/*.mpg')\n",
    "data = data.shuffle(500, reshuffle_each_iteration=False)\n",
    "data = data.map(mappable_function)\n",
    "data = data.padded_batch(2, padded_shapes=([75,None,None,None],[40]))\n",
    "data = data.prefetch(tf.data.AUTOTUNE)\n",
    "# Added for split \n",
    "train = data.take(450)\n",
    "test = data.skip(450)"
   ]
  },
  {
   "cell_type": "code",
   "execution_count": 28,
   "id": "6b1365bd-7742-41d1-95d4-247021751c3a",
   "metadata": {},
   "outputs": [
    {
     "data": {
      "text/plain": [
       "50"
      ]
     },
     "execution_count": 28,
     "metadata": {},
     "output_type": "execute_result"
    }
   ],
   "source": [
    "len(test)"
   ]
  },
  {
   "cell_type": "code",
   "execution_count": 29,
   "id": "5281bde8-fdc8-4da1-bd55-5a7929a9e80c",
   "metadata": {},
   "outputs": [],
   "source": [
    "frames, alignments = data.as_numpy_iterator().next()"
   ]
  },
  {
   "cell_type": "code",
   "execution_count": 30,
   "id": "cbebe683-6afd-47fd-bba4-c83b4b13bb32",
   "metadata": {},
   "outputs": [
    {
     "data": {
      "text/plain": [
       "2"
      ]
     },
     "execution_count": 30,
     "metadata": {},
     "output_type": "execute_result"
    }
   ],
   "source": [
    "len(frames)"
   ]
  },
  {
   "cell_type": "code",
   "execution_count": 31,
   "id": "5cf2d676-93a9-434c-b3c7-bdcc2577b2e7",
   "metadata": {
    "tags": []
   },
   "outputs": [],
   "source": [
    "sample = data.as_numpy_iterator()"
   ]
  },
  {
   "cell_type": "code",
   "execution_count": 32,
   "id": "efa6cd46-7079-46c0-b45b-832f339f6cb0",
   "metadata": {
    "scrolled": true,
    "tags": []
   },
   "outputs": [
    {
     "data": {
      "text/plain": [
       "array([[[[[ 1.423011  ],\n",
       "          [ 1.3044268 ],\n",
       "          [ 1.0672582 ],\n",
       "          ...,\n",
       "          [ 0.23716849],\n",
       "          [ 0.19764042],\n",
       "          [ 0.19764042]],\n",
       "\n",
       "         [[ 1.4625391 ],\n",
       "          [ 1.2253705 ],\n",
       "          [ 0.9882021 ],\n",
       "          ...,\n",
       "          [ 0.23716849],\n",
       "          [ 0.19764042],\n",
       "          [ 0.19764042]],\n",
       "\n",
       "         [[ 1.5020671 ],\n",
       "          [ 1.5020671 ],\n",
       "          [ 1.423011  ],\n",
       "          ...,\n",
       "          [ 0.2766966 ],\n",
       "          [ 0.23716849],\n",
       "          [ 0.23716849]],\n",
       "\n",
       "         ...,\n",
       "\n",
       "         [[ 1.0672582 ],\n",
       "          [ 1.0672582 ],\n",
       "          [ 1.0672582 ],\n",
       "          ...,\n",
       "          [ 0.        ],\n",
       "          [10.079661  ],\n",
       "          [10.079661  ]],\n",
       "\n",
       "         [[ 1.0277301 ],\n",
       "          [ 1.0277301 ],\n",
       "          [ 1.0277301 ],\n",
       "          ...,\n",
       "          [10.079661  ],\n",
       "          [10.079661  ],\n",
       "          [10.079661  ]],\n",
       "\n",
       "         [[ 1.0277301 ],\n",
       "          [ 1.0277301 ],\n",
       "          [ 1.0277301 ],\n",
       "          ...,\n",
       "          [10.040133  ],\n",
       "          [10.040133  ],\n",
       "          [10.040133  ]]],\n",
       "\n",
       "\n",
       "        [[[ 1.4625391 ],\n",
       "          [ 1.423011  ],\n",
       "          [ 1.2648987 ],\n",
       "          ...,\n",
       "          [ 0.23716849],\n",
       "          [ 0.19764042],\n",
       "          [ 0.19764042]],\n",
       "\n",
       "         [[ 1.5020671 ],\n",
       "          [ 1.3044268 ],\n",
       "          [ 1.0672582 ],\n",
       "          ...,\n",
       "          [ 0.23716849],\n",
       "          [ 0.19764042],\n",
       "          [ 0.19764042]],\n",
       "\n",
       "         [[ 1.5415952 ],\n",
       "          [ 1.5415952 ],\n",
       "          [ 1.423011  ],\n",
       "          ...,\n",
       "          [ 0.23716849],\n",
       "          [ 0.15811233],\n",
       "          [ 0.15811233]],\n",
       "\n",
       "         ...,\n",
       "\n",
       "         [[ 1.0277301 ],\n",
       "          [ 1.0277301 ],\n",
       "          [ 1.0277301 ],\n",
       "          ...,\n",
       "          [ 0.        ],\n",
       "          [10.079661  ],\n",
       "          [10.079661  ]],\n",
       "\n",
       "         [[ 1.0277301 ],\n",
       "          [ 1.0277301 ],\n",
       "          [ 1.0277301 ],\n",
       "          ...,\n",
       "          [10.079661  ],\n",
       "          [10.040133  ],\n",
       "          [10.040133  ]],\n",
       "\n",
       "         [[ 1.0277301 ],\n",
       "          [ 1.0277301 ],\n",
       "          [ 1.0277301 ],\n",
       "          ...,\n",
       "          [10.079661  ],\n",
       "          [10.040133  ],\n",
       "          [10.040133  ]]],\n",
       "\n",
       "\n",
       "        [[[ 1.4625391 ],\n",
       "          [ 1.4625391 ],\n",
       "          [ 1.2648987 ],\n",
       "          ...,\n",
       "          [ 0.23716849],\n",
       "          [ 0.23716849],\n",
       "          [ 0.23716849]],\n",
       "\n",
       "         [[ 1.5020671 ],\n",
       "          [ 1.2648987 ],\n",
       "          [ 1.1463144 ],\n",
       "          ...,\n",
       "          [ 0.19764042],\n",
       "          [ 0.23716849],\n",
       "          [ 0.23716849]],\n",
       "\n",
       "         [[ 1.5811234 ],\n",
       "          [ 1.5811234 ],\n",
       "          [ 1.423011  ],\n",
       "          ...,\n",
       "          [ 0.31622466],\n",
       "          [ 0.2766966 ],\n",
       "          [ 0.2766966 ]],\n",
       "\n",
       "         ...,\n",
       "\n",
       "         [[ 0.9882021 ],\n",
       "          [ 0.9882021 ],\n",
       "          [ 0.9882021 ],\n",
       "          ...,\n",
       "          [ 0.        ],\n",
       "          [ 0.        ],\n",
       "          [10.079661  ]],\n",
       "\n",
       "         [[ 0.9882021 ],\n",
       "          [ 0.9882021 ],\n",
       "          [ 0.9882021 ],\n",
       "          ...,\n",
       "          [ 0.        ],\n",
       "          [10.079661  ],\n",
       "          [10.079661  ]],\n",
       "\n",
       "         [[ 0.9882021 ],\n",
       "          [ 0.9882021 ],\n",
       "          [ 0.9882021 ],\n",
       "          ...,\n",
       "          [ 0.        ],\n",
       "          [10.079661  ],\n",
       "          [10.079661  ]]],\n",
       "\n",
       "\n",
       "        ...,\n",
       "\n",
       "\n",
       "        [[[ 1.3834829 ],\n",
       "          [ 1.4625391 ],\n",
       "          [ 0.94867396],\n",
       "          ...,\n",
       "          [ 0.23716849],\n",
       "          [ 0.23716849],\n",
       "          [ 0.15811233]],\n",
       "\n",
       "         [[ 1.3834829 ],\n",
       "          [ 1.3834829 ],\n",
       "          [ 0.9882021 ],\n",
       "          ...,\n",
       "          [ 0.23716849],\n",
       "          [ 0.23716849],\n",
       "          [ 0.15811233]],\n",
       "\n",
       "         [[ 1.423011  ],\n",
       "          [ 1.423011  ],\n",
       "          [ 1.3044268 ],\n",
       "          ...,\n",
       "          [ 0.23716849],\n",
       "          [ 0.23716849],\n",
       "          [ 0.23716849]],\n",
       "\n",
       "         ...,\n",
       "\n",
       "         [[ 0.9882021 ],\n",
       "          [ 0.9882021 ],\n",
       "          [ 0.9882021 ],\n",
       "          ...,\n",
       "          [10.000605  ],\n",
       "          [10.000605  ],\n",
       "          [10.000605  ]],\n",
       "\n",
       "         [[ 0.9882021 ],\n",
       "          [ 0.9882021 ],\n",
       "          [ 0.9882021 ],\n",
       "          ...,\n",
       "          [10.000605  ],\n",
       "          [10.000605  ],\n",
       "          [10.000605  ]],\n",
       "\n",
       "         [[ 0.9882021 ],\n",
       "          [ 0.9882021 ],\n",
       "          [ 0.9882021 ],\n",
       "          ...,\n",
       "          [10.000605  ],\n",
       "          [10.000605  ],\n",
       "          [10.000605  ]]],\n",
       "\n",
       "\n",
       "        [[[ 1.5020671 ],\n",
       "          [ 1.4625391 ],\n",
       "          [ 1.0277301 ],\n",
       "          ...,\n",
       "          [ 0.23716849],\n",
       "          [ 0.23716849],\n",
       "          [ 0.15811233]],\n",
       "\n",
       "         [[ 1.4625391 ],\n",
       "          [ 1.2648987 ],\n",
       "          [ 0.9091459 ],\n",
       "          ...,\n",
       "          [ 0.23716849],\n",
       "          [ 0.23716849],\n",
       "          [ 0.15811233]],\n",
       "\n",
       "         [[ 1.4625391 ],\n",
       "          [ 1.4625391 ],\n",
       "          [ 1.3439548 ],\n",
       "          ...,\n",
       "          [ 0.23716849],\n",
       "          [ 0.23716849],\n",
       "          [ 0.23716849]],\n",
       "\n",
       "         ...,\n",
       "\n",
       "         [[ 0.9882021 ],\n",
       "          [ 0.9882021 ],\n",
       "          [ 0.9882021 ],\n",
       "          ...,\n",
       "          [10.079661  ],\n",
       "          [10.040133  ],\n",
       "          [10.040133  ]],\n",
       "\n",
       "         [[ 0.9882021 ],\n",
       "          [ 0.9882021 ],\n",
       "          [ 0.9882021 ],\n",
       "          ...,\n",
       "          [10.040133  ],\n",
       "          [10.040133  ],\n",
       "          [10.040133  ]],\n",
       "\n",
       "         [[ 0.9882021 ],\n",
       "          [ 0.9882021 ],\n",
       "          [ 0.9882021 ],\n",
       "          ...,\n",
       "          [10.000605  ],\n",
       "          [10.000605  ],\n",
       "          [10.000605  ]]],\n",
       "\n",
       "\n",
       "        [[[ 1.423011  ],\n",
       "          [ 1.3439548 ],\n",
       "          [ 1.0277301 ],\n",
       "          ...,\n",
       "          [ 0.23716849],\n",
       "          [ 0.23716849],\n",
       "          [ 0.15811233]],\n",
       "\n",
       "         [[ 1.3439548 ],\n",
       "          [ 1.2253705 ],\n",
       "          [ 0.9091459 ],\n",
       "          ...,\n",
       "          [ 0.23716849],\n",
       "          [ 0.23716849],\n",
       "          [ 0.15811233]],\n",
       "\n",
       "         [[ 1.423011  ],\n",
       "          [ 1.423011  ],\n",
       "          [ 1.3044268 ],\n",
       "          ...,\n",
       "          [ 0.23716849],\n",
       "          [ 0.23716849],\n",
       "          [ 0.23716849]],\n",
       "\n",
       "         ...,\n",
       "\n",
       "         [[ 0.9882021 ],\n",
       "          [ 0.9882021 ],\n",
       "          [ 0.9882021 ],\n",
       "          ...,\n",
       "          [ 0.        ],\n",
       "          [10.079661  ],\n",
       "          [10.040133  ]],\n",
       "\n",
       "         [[ 0.9882021 ],\n",
       "          [ 0.9882021 ],\n",
       "          [ 0.9882021 ],\n",
       "          ...,\n",
       "          [ 0.        ],\n",
       "          [10.040133  ],\n",
       "          [10.040133  ]],\n",
       "\n",
       "         [[ 0.9882021 ],\n",
       "          [ 0.9882021 ],\n",
       "          [ 0.9882021 ],\n",
       "          ...,\n",
       "          [10.079661  ],\n",
       "          [10.040133  ],\n",
       "          [10.040133  ]]]],\n",
       "\n",
       "\n",
       "\n",
       "       [[[[ 1.3365979 ],\n",
       "          [ 1.4893519 ],\n",
       "          [ 1.2220323 ],\n",
       "          ...,\n",
       "          [ 0.3818851 ],\n",
       "          [ 0.3436966 ],\n",
       "          [ 0.3436966 ]],\n",
       "\n",
       "         [[ 1.4511634 ],\n",
       "          [ 1.4511634 ],\n",
       "          [ 1.2602209 ],\n",
       "          ...,\n",
       "          [ 0.3818851 ],\n",
       "          [ 0.3436966 ],\n",
       "          [ 0.3436966 ]],\n",
       "\n",
       "         [[ 1.6039175 ],\n",
       "          [ 1.5657289 ],\n",
       "          [ 1.2984093 ],\n",
       "          ...,\n",
       "          [ 0.3436966 ],\n",
       "          [ 0.3436966 ],\n",
       "          [ 0.3436966 ]],\n",
       "\n",
       "         ...,\n",
       "\n",
       "         [[ 1.0310898 ],\n",
       "          [ 1.0310898 ],\n",
       "          [ 1.0310898 ],\n",
       "          ...,\n",
       "          [ 0.07637702],\n",
       "          [ 0.07637702],\n",
       "          [ 0.07637702]],\n",
       "\n",
       "         [[ 1.0310898 ],\n",
       "          [ 1.0310898 ],\n",
       "          [ 1.0310898 ],\n",
       "          ...,\n",
       "          [ 0.07637702],\n",
       "          [ 0.07637702],\n",
       "          [ 0.07637702]],\n",
       "\n",
       "         [[ 1.0310898 ],\n",
       "          [ 1.0310898 ],\n",
       "          [ 1.0310898 ],\n",
       "          ...,\n",
       "          [ 0.07637702],\n",
       "          [ 0.07637702],\n",
       "          [ 0.03818851]]],\n",
       "\n",
       "\n",
       "        [[[ 1.4129748 ],\n",
       "          [ 1.4893519 ],\n",
       "          [ 1.3365979 ],\n",
       "          ...,\n",
       "          [ 0.3818851 ],\n",
       "          [ 0.30550808],\n",
       "          [ 0.30550808]],\n",
       "\n",
       "         [[ 1.4893519 ],\n",
       "          [ 1.5657289 ],\n",
       "          [ 1.3747864 ],\n",
       "          ...,\n",
       "          [ 0.3818851 ],\n",
       "          [ 0.30550808],\n",
       "          [ 0.30550808]],\n",
       "\n",
       "         [[ 1.3365979 ],\n",
       "          [ 1.3747864 ],\n",
       "          [ 1.3365979 ],\n",
       "          ...,\n",
       "          [ 0.3436966 ],\n",
       "          [ 0.3436966 ],\n",
       "          [ 0.3436966 ]],\n",
       "\n",
       "         ...,\n",
       "\n",
       "         [[ 1.0310898 ],\n",
       "          [ 1.0310898 ],\n",
       "          [ 1.0310898 ],\n",
       "          ...,\n",
       "          [ 0.07637702],\n",
       "          [ 0.07637702],\n",
       "          [ 0.07637702]],\n",
       "\n",
       "         [[ 1.0310898 ],\n",
       "          [ 1.0310898 ],\n",
       "          [ 1.0310898 ],\n",
       "          ...,\n",
       "          [ 0.07637702],\n",
       "          [ 0.07637702],\n",
       "          [ 0.03818851]],\n",
       "\n",
       "         [[ 1.0310898 ],\n",
       "          [ 1.0310898 ],\n",
       "          [ 1.0310898 ],\n",
       "          ...,\n",
       "          [ 0.07637702],\n",
       "          [ 0.03818851],\n",
       "          [ 0.03818851]]],\n",
       "\n",
       "\n",
       "        [[[ 1.4129748 ],\n",
       "          [ 1.4129748 ],\n",
       "          [ 1.4129748 ],\n",
       "          ...,\n",
       "          [ 0.3818851 ],\n",
       "          [ 0.3436966 ],\n",
       "          [ 0.3436966 ]],\n",
       "\n",
       "         [[ 1.4129748 ],\n",
       "          [ 1.4893519 ],\n",
       "          [ 1.2984093 ],\n",
       "          ...,\n",
       "          [ 0.3818851 ],\n",
       "          [ 0.3436966 ],\n",
       "          [ 0.3436966 ]],\n",
       "\n",
       "         [[ 1.3365979 ],\n",
       "          [ 1.4129748 ],\n",
       "          [ 1.3747864 ],\n",
       "          ...,\n",
       "          [ 0.3436966 ],\n",
       "          [ 0.3436966 ],\n",
       "          [ 0.3436966 ]],\n",
       "\n",
       "         ...,\n",
       "\n",
       "         [[ 1.0692782 ],\n",
       "          [ 1.0310898 ],\n",
       "          [ 1.0310898 ],\n",
       "          ...,\n",
       "          [ 0.07637702],\n",
       "          [ 0.07637702],\n",
       "          [ 0.07637702]],\n",
       "\n",
       "         [[ 1.0692782 ],\n",
       "          [ 1.0310898 ],\n",
       "          [ 1.0310898 ],\n",
       "          ...,\n",
       "          [ 0.07637702],\n",
       "          [ 0.07637702],\n",
       "          [ 0.03818851]],\n",
       "\n",
       "         [[ 1.0692782 ],\n",
       "          [ 1.0310898 ],\n",
       "          [ 1.0310898 ],\n",
       "          ...,\n",
       "          [ 0.07637702],\n",
       "          [ 0.03818851],\n",
       "          [ 0.03818851]]],\n",
       "\n",
       "\n",
       "        ...,\n",
       "\n",
       "\n",
       "        [[[ 1.4129748 ],\n",
       "          [ 1.4511634 ],\n",
       "          [ 1.1074668 ],\n",
       "          ...,\n",
       "          [ 0.3436966 ],\n",
       "          [ 0.3436966 ],\n",
       "          [ 0.3436966 ]],\n",
       "\n",
       "         [[ 1.4511634 ],\n",
       "          [ 1.4129748 ],\n",
       "          [ 0.95471275],\n",
       "          ...,\n",
       "          [ 0.3436966 ],\n",
       "          [ 0.3436966 ],\n",
       "          [ 0.3436966 ]],\n",
       "\n",
       "         [[ 1.4893519 ],\n",
       "          [ 1.3747864 ],\n",
       "          [ 1.2602209 ],\n",
       "          ...,\n",
       "          [ 0.30550808],\n",
       "          [ 0.30550808],\n",
       "          [ 0.30550808]],\n",
       "\n",
       "         ...,\n",
       "\n",
       "         [[ 1.1074668 ],\n",
       "          [ 1.1074668 ],\n",
       "          [ 1.1074668 ],\n",
       "          ...,\n",
       "          [ 0.07637702],\n",
       "          [ 0.07637702],\n",
       "          [ 0.07637702]],\n",
       "\n",
       "         [[ 1.1074668 ],\n",
       "          [ 1.1074668 ],\n",
       "          [ 1.1074668 ],\n",
       "          ...,\n",
       "          [ 0.07637702],\n",
       "          [ 0.07637702],\n",
       "          [ 0.03818851]],\n",
       "\n",
       "         [[ 1.1074668 ],\n",
       "          [ 1.1074668 ],\n",
       "          [ 1.0692782 ],\n",
       "          ...,\n",
       "          [ 0.07637702],\n",
       "          [ 0.03818851],\n",
       "          [ 0.03818851]]],\n",
       "\n",
       "\n",
       "        [[[ 1.5275404 ],\n",
       "          [ 1.4129748 ],\n",
       "          [ 1.1456553 ],\n",
       "          ...,\n",
       "          [ 0.3436966 ],\n",
       "          [ 0.3436966 ],\n",
       "          [ 0.3436966 ]],\n",
       "\n",
       "         [[ 1.5275404 ],\n",
       "          [ 1.5657289 ],\n",
       "          [ 0.99290127],\n",
       "          ...,\n",
       "          [ 0.3436966 ],\n",
       "          [ 0.3436966 ],\n",
       "          [ 0.3436966 ]],\n",
       "\n",
       "         [[ 1.5275404 ],\n",
       "          [ 1.4511634 ],\n",
       "          [ 1.2984093 ],\n",
       "          ...,\n",
       "          [ 0.3436966 ],\n",
       "          [ 0.30550808],\n",
       "          [ 0.30550808]],\n",
       "\n",
       "         ...,\n",
       "\n",
       "         [[ 1.1074668 ],\n",
       "          [ 1.1074668 ],\n",
       "          [ 1.1074668 ],\n",
       "          ...,\n",
       "          [ 0.07637702],\n",
       "          [ 0.07637702],\n",
       "          [ 0.07637702]],\n",
       "\n",
       "         [[ 1.1074668 ],\n",
       "          [ 1.1074668 ],\n",
       "          [ 1.1074668 ],\n",
       "          ...,\n",
       "          [ 0.07637702],\n",
       "          [ 0.07637702],\n",
       "          [ 0.03818851]],\n",
       "\n",
       "         [[ 1.1074668 ],\n",
       "          [ 1.1074668 ],\n",
       "          [ 1.0692782 ],\n",
       "          ...,\n",
       "          [ 0.07637702],\n",
       "          [ 0.03818851],\n",
       "          [ 0.03818851]]],\n",
       "\n",
       "\n",
       "        [[[ 1.4893519 ],\n",
       "          [ 1.4511634 ],\n",
       "          [ 1.1074668 ],\n",
       "          ...,\n",
       "          [ 0.3436966 ],\n",
       "          [ 0.3436966 ],\n",
       "          [ 0.3436966 ]],\n",
       "\n",
       "         [[ 1.4893519 ],\n",
       "          [ 1.4893519 ],\n",
       "          [ 1.0310898 ],\n",
       "          ...,\n",
       "          [ 0.3436966 ],\n",
       "          [ 0.3436966 ],\n",
       "          [ 0.3436966 ]],\n",
       "\n",
       "         [[ 1.5275404 ],\n",
       "          [ 1.4511634 ],\n",
       "          [ 1.2984093 ],\n",
       "          ...,\n",
       "          [ 0.3436966 ],\n",
       "          [ 0.30550808],\n",
       "          [ 0.30550808]],\n",
       "\n",
       "         ...,\n",
       "\n",
       "         [[ 1.1074668 ],\n",
       "          [ 1.1074668 ],\n",
       "          [ 1.1074668 ],\n",
       "          ...,\n",
       "          [ 0.07637702],\n",
       "          [ 0.07637702],\n",
       "          [ 0.03818851]],\n",
       "\n",
       "         [[ 1.1074668 ],\n",
       "          [ 1.1074668 ],\n",
       "          [ 1.1074668 ],\n",
       "          ...,\n",
       "          [ 0.07637702],\n",
       "          [ 0.03818851],\n",
       "          [ 0.03818851]],\n",
       "\n",
       "         [[ 1.0692782 ],\n",
       "          [ 1.0692782 ],\n",
       "          [ 1.0310898 ],\n",
       "          ...,\n",
       "          [ 0.03818851],\n",
       "          [ 0.03818851],\n",
       "          [ 0.03818851]]]]], dtype=float32)"
      ]
     },
     "execution_count": 32,
     "metadata": {},
     "output_type": "execute_result"
    }
   ],
   "source": [
    "val = sample.next(); val[0]"
   ]
  },
  {
   "cell_type": "code",
   "execution_count": 35,
   "id": "acf5eb4f-a0da-4a9a-bf24-af13e9cc2fbe",
   "metadata": {
    "tags": []
   },
   "outputs": [
    {
     "ename": "TypeError",
     "evalue": "The keyword `fps` is no longer supported. Use `duration`(in ms) instead, e.g. `fps=50` == `duration=20` (1000 * 1/50).",
     "output_type": "error",
     "traceback": [
      "\u001b[1;31m---------------------------------------------------------------------------\u001b[0m",
      "\u001b[1;31mTypeError\u001b[0m                                 Traceback (most recent call last)",
      "Cell \u001b[1;32mIn[35], line 1\u001b[0m\n\u001b[1;32m----> 1\u001b[0m imageio\u001b[39m.\u001b[39;49mmimsave(\u001b[39m'\u001b[39;49m\u001b[39m./animation.gif\u001b[39;49m\u001b[39m'\u001b[39;49m, val[\u001b[39m0\u001b[39;49m][\u001b[39m0\u001b[39;49m], fps\u001b[39m=\u001b[39;49m\u001b[39m10\u001b[39;49m)\n",
      "File \u001b[1;32mc:\\Users\\gigabyte\\AppData\\Local\\Programs\\Python\\Python39\\lib\\site-packages\\imageio\\v2.py:495\u001b[0m, in \u001b[0;36mmimwrite\u001b[1;34m(uri, ims, format, **kwargs)\u001b[0m\n\u001b[0;32m    493\u001b[0m imopen_args[\u001b[39m\"\u001b[39m\u001b[39mlegacy_mode\u001b[39m\u001b[39m\"\u001b[39m] \u001b[39m=\u001b[39m \u001b[39mTrue\u001b[39;00m\n\u001b[0;32m    494\u001b[0m \u001b[39mwith\u001b[39;00m imopen(uri, \u001b[39m\"\u001b[39m\u001b[39mwI\u001b[39m\u001b[39m\"\u001b[39m, \u001b[39m*\u001b[39m\u001b[39m*\u001b[39mimopen_args) \u001b[39mas\u001b[39;00m file:\n\u001b[1;32m--> 495\u001b[0m     \u001b[39mreturn\u001b[39;00m file\u001b[39m.\u001b[39mwrite(ims, is_batch\u001b[39m=\u001b[39m\u001b[39mTrue\u001b[39;00m, \u001b[39m*\u001b[39m\u001b[39m*\u001b[39mkwargs)\n",
      "File \u001b[1;32mc:\\Users\\gigabyte\\AppData\\Local\\Programs\\Python\\Python39\\lib\\site-packages\\imageio\\plugins\\pillow.py:383\u001b[0m, in \u001b[0;36mPillowPlugin.write\u001b[1;34m(self, ndimage, mode, format, is_batch, **kwargs)\u001b[0m\n\u001b[0;32m    337\u001b[0m \u001b[39m\u001b[39m\u001b[39m\"\"\"\u001b[39;00m\n\u001b[0;32m    338\u001b[0m \u001b[39mWrite an ndimage to the URI specified in path.\u001b[39;00m\n\u001b[0;32m    339\u001b[0m \n\u001b[1;32m   (...)\u001b[0m\n\u001b[0;32m    380\u001b[0m \n\u001b[0;32m    381\u001b[0m \u001b[39m\"\"\"\u001b[39;00m\n\u001b[0;32m    382\u001b[0m \u001b[39mif\u001b[39;00m \u001b[39m\"\u001b[39m\u001b[39mfps\u001b[39m\u001b[39m\"\u001b[39m \u001b[39min\u001b[39;00m kwargs:\n\u001b[1;32m--> 383\u001b[0m     \u001b[39mraise\u001b[39;00m \u001b[39mTypeError\u001b[39;00m(\n\u001b[0;32m    384\u001b[0m         \u001b[39m\"\u001b[39m\u001b[39mThe keyword `fps` is no longer supported. Use `duration`\u001b[39m\u001b[39m\"\u001b[39m\n\u001b[0;32m    385\u001b[0m         \u001b[39m\"\u001b[39m\u001b[39m(in ms) instead, e.g. `fps=50` == `duration=20` (1000 * 1/50).\u001b[39m\u001b[39m\"\u001b[39m\n\u001b[0;32m    386\u001b[0m     )\n\u001b[0;32m    388\u001b[0m \u001b[39mif\u001b[39;00m \u001b[39misinstance\u001b[39m(ndimage, \u001b[39mlist\u001b[39m):\n\u001b[0;32m    389\u001b[0m     ndimage \u001b[39m=\u001b[39m np\u001b[39m.\u001b[39mstack(ndimage, axis\u001b[39m=\u001b[39m\u001b[39m0\u001b[39m)\n",
      "\u001b[1;31mTypeError\u001b[0m: The keyword `fps` is no longer supported. Use `duration`(in ms) instead, e.g. `fps=50` == `duration=20` (1000 * 1/50)."
     ]
    }
   ],
   "source": [
    "imageio.mimsave('./animation.gif', val[0][0], duration=4)"
   ]
  },
  {
   "cell_type": "code",
   "execution_count": 34,
   "id": "c33a87a2-d5e0-4ec9-b174-73ebf41bf03a",
   "metadata": {
    "tags": []
   },
   "outputs": [
    {
     "data": {
      "text/plain": [
       "<matplotlib.image.AxesImage at 0x10c2ead8d30>"
      ]
     },
     "execution_count": 34,
     "metadata": {},
     "output_type": "execute_result"
    },
    {
     "data": {
      "image/png": "[encoded data removed]",
      "text/plain": [
       "<Figure size 640x480 with 1 Axes>"
      ]
     },
     "metadata": {},
     "output_type": "display_data"
    }
   ],
   "source": [
    "# 0:videos, 0: 1st video out of the batch,  0: return the first frame in the video \n",
    "plt.imshow(val[0][0][35])"
   ]
  },
  {
   "cell_type": "code",
   "execution_count": 35,
   "id": "84593332-133c-4205-b7a6-8e235d5e2b3b",
   "metadata": {
    "tags": []
   },
   "outputs": [
    {
     "data": {
      "text/plain": [
       "<tf.Tensor: shape=(), dtype=string, numpy=b'lay blue by e two please'>"
      ]
     },
     "execution_count": 35,
     "metadata": {},
     "output_type": "execute_result"
    }
   ],
   "source": [
    "tf.strings.reduce_join([num_to_char(word) for word in val[1][0]])"
   ]
  },
  {
   "cell_type": "markdown",
   "id": "0f47733c-83bc-465c-b118-b198b492ad37",
   "metadata": {
    "tags": []
   },
   "source": [
    "# 3. Design the Deep Neural Network"
   ]
  },
  {
   "cell_type": "code",
   "execution_count": 36,
   "id": "d8e9a497-191b-4842-afbd-26f5e13c43ba",
   "metadata": {
    "tags": []
   },
   "outputs": [],
   "source": [
    "from tensorflow.keras.models import Sequential \n",
    "from tensorflow.keras.layers import Conv3D, LSTM, Dense, Dropout, Bidirectional, MaxPool3D, Activation, Reshape, SpatialDropout3D, BatchNormalization, TimeDistributed, Flatten\n",
    "from tensorflow.keras.optimizers import Adam\n",
    "from tensorflow.keras.callbacks import ModelCheckpoint, LearningRateScheduler"
   ]
  },
  {
   "cell_type": "code",
   "execution_count": 37,
   "id": "3f753ed2-70b9-4236-8c1c-08ca065dc8bf",
   "metadata": {},
   "outputs": [
    {
     "data": {
      "text/plain": [
       "(75, 46, 140, 1)"
      ]
     },
     "execution_count": 37,
     "metadata": {},
     "output_type": "execute_result"
    }
   ],
   "source": [
    "data.as_numpy_iterator().next()[0][0].shape"
   ]
  },
  {
   "cell_type": "code",
   "execution_count": 38,
   "id": "f9171056-a352-491a-9ed9-92b28ced268e",
   "metadata": {
    "tags": []
   },
   "outputs": [],
   "source": [
    "model = Sequential()\n",
    "model.add(Conv3D(128, 3, input_shape=(75,46,140,1), padding='same'))\n",
    "model.add(Activation('relu'))\n",
    "model.add(MaxPool3D((1,2,2)))\n",
    "\n",
    "model.add(Conv3D(256, 3, padding='same'))\n",
    "model.add(Activation('relu'))\n",
    "model.add(MaxPool3D((1,2,2)))\n",
    "\n",
    "model.add(Conv3D(75, 3, padding='same'))\n",
    "model.add(Activation('relu'))\n",
    "model.add(MaxPool3D((1,2,2)))\n",
    "\n",
    "model.add(TimeDistributed(Flatten()))\n",
    "\n",
    "model.add(Bidirectional(LSTM(128, kernel_initializer='Orthogonal', return_sequences=True)))\n",
    "model.add(Dropout(.5))\n",
    "\n",
    "model.add(Bidirectional(LSTM(128, kernel_initializer='Orthogonal', return_sequences=True)))\n",
    "model.add(Dropout(.5))\n",
    "\n",
    "model.add(Dense(char_to_num.vocabulary_size()+1, kernel_initializer='he_normal', activation='softmax'))"
   ]
  },
  {
   "cell_type": "code",
   "execution_count": 39,
   "id": "78851825-2bcd-42a9-b7f2-28bb5a6bf43a",
   "metadata": {
    "collapsed": true,
    "jupyter": {
     "outputs_hidden": true
    },
    "tags": []
   },
   "outputs": [
    {
     "name": "stdout",
     "output_type": "stream",
     "text": [
      "Model: \"sequential\"\n",
      "_________________________________________________________________\n",
      " Layer (type)                Output Shape              Param #   \n",
      "=================================================================\n",
      " conv3d (Conv3D)             (None, 75, 46, 140, 128)  3584      \n",
      "                                                                 \n",
      " activation (Activation)     (None, 75, 46, 140, 128)  0         \n",
      "                                                                 \n",
      " max_pooling3d (MaxPooling3D  (None, 75, 23, 70, 128)  0         \n",
      " )                                                               \n",
      "                                                                 \n",
      " conv3d_1 (Conv3D)           (None, 75, 23, 70, 256)   884992    \n",
      "                                                                 \n",
      " activation_1 (Activation)   (None, 75, 23, 70, 256)   0         \n",
      "                                                                 \n",
      " max_pooling3d_1 (MaxPooling  (None, 75, 11, 35, 256)  0         \n",
      " 3D)                                                             \n",
      "                                                                 \n",
      " conv3d_2 (Conv3D)           (None, 75, 11, 35, 75)    518475    \n",
      "                                                                 \n",
      " activation_2 (Activation)   (None, 75, 11, 35, 75)    0         \n",
      "                                                                 \n",
      " max_pooling3d_2 (MaxPooling  (None, 75, 5, 17, 75)    0         \n",
      " 3D)                                                             \n",
      "                                                                 \n",
      " time_distributed (TimeDistr  (None, 75, 6375)         0         \n",
      " ibuted)                                                         \n",
      "                                                                 \n",
      " bidirectional (Bidirectiona  (None, 75, 256)          6660096   \n",
      " l)                                                              \n",
      "                                                                 \n",
      " dropout (Dropout)           (None, 75, 256)           0         \n",
      "                                                                 \n",
      " bidirectional_1 (Bidirectio  (None, 75, 256)          394240    \n",
      " nal)                                                            \n",
      "                                                                 \n",
      " dropout_1 (Dropout)         (None, 75, 256)           0         \n",
      "                                                                 \n",
      " dense (Dense)               (None, 75, 41)            10537     \n",
      "                                                                 \n",
      "=================================================================\n",
      "Total params: 8,471,924\n",
      "Trainable params: 8,471,924\n",
      "Non-trainable params: 0\n",
      "_________________________________________________________________\n"
     ]
    }
   ],
   "source": [
    "model.summary()"
   ]
  },
  {
   "cell_type": "code",
   "execution_count": null,
   "id": "f4b4798c-a65a-4c47-9e2a-3b09dc98d320",
   "metadata": {},
   "outputs": [],
   "source": [
    "5*17*75"
   ]
  },
  {
   "cell_type": "code",
   "execution_count": 40,
   "id": "e5c2eae0-c359-41a4-97a0-75c44dccb7d1",
   "metadata": {
    "tags": []
   },
   "outputs": [
    {
     "name": "stdout",
     "output_type": "stream",
     "text": [
      "1/1 [==============================] - 3s 3s/step\n"
     ]
    }
   ],
   "source": [
    "yhat = model.predict(val[0])"
   ]
  },
  {
   "cell_type": "code",
   "execution_count": 41,
   "id": "ffdc7319-0d69-4f7e-a6d4-ce72deb81c0b",
   "metadata": {},
   "outputs": [
    {
     "data": {
      "text/plain": [
       "<tf.Tensor: shape=(), dtype=string, numpy=b'444iiiiiiiiiiiiiimmmmmmmmmmmmmmmmmmmmmmiiiiiiiiiiimmmmmmmmiiiiiiiiiiixxxxxx'>"
      ]
     },
     "execution_count": 41,
     "metadata": {},
     "output_type": "execute_result"
    }
   ],
   "source": [
    "tf.strings.reduce_join([num_to_char(x) for x in tf.argmax(yhat[0],axis=1)])"
   ]
  },
  {
   "cell_type": "code",
   "execution_count": 42,
   "id": "6ed47531-8317-4255-9a12-b757642258e6",
   "metadata": {
    "tags": []
   },
   "outputs": [
    {
     "data": {
      "text/plain": [
       "<tf.Tensor: shape=(), dtype=string, numpy=b'444iiiiiiiiiiiiiimmmmmmmmmmmmmmmmmmmmmmiiiiiiiiiiimmmmmmmmiiiiiiiiiiixxxxxx'>"
      ]
     },
     "execution_count": 42,
     "metadata": {},
     "output_type": "execute_result"
    }
   ],
   "source": [
    "tf.strings.reduce_join([num_to_char(tf.argmax(x)) for x in yhat[0]])"
   ]
  },
  {
   "cell_type": "code",
   "execution_count": 43,
   "id": "7c37b9b9-5298-4038-9c33-5031d1b457f0",
   "metadata": {
    "tags": []
   },
   "outputs": [
    {
     "data": {
      "text/plain": [
       "(None, 75, 46, 140, 1)"
      ]
     },
     "execution_count": 43,
     "metadata": {},
     "output_type": "execute_result"
    }
   ],
   "source": [
    "model.input_shape"
   ]
  },
  {
   "cell_type": "code",
   "execution_count": 44,
   "id": "98b316a4-5322-4782-8e36-4b3c1a696d85",
   "metadata": {
    "tags": []
   },
   "outputs": [
    {
     "data": {
      "text/plain": [
       "(None, 75, 41)"
      ]
     },
     "execution_count": 44,
     "metadata": {},
     "output_type": "execute_result"
    }
   ],
   "source": [
    "model.output_shape"
   ]
  },
  {
   "cell_type": "markdown",
   "id": "2ec02176-5c26-46c3-aff7-8352e6563c7d",
   "metadata": {
    "tags": []
   },
   "source": [
    "# 4. Setup Training Options and Train"
   ]
  },
  {
   "cell_type": "code",
   "execution_count": 45,
   "id": "ab015fd0-7fb4-4d5d-9fa2-30a05dbd515a",
   "metadata": {
    "tags": []
   },
   "outputs": [],
   "source": [
    "def scheduler(epoch, lr):\n",
    "    if epoch < 30:\n",
    "        return lr\n",
    "    else:\n",
    "        return lr * tf.math.exp(-0.1)"
   ]
  },
  {
   "cell_type": "code",
   "execution_count": 46,
   "id": "c564d5c9-db54-4e88-b311-9aeab7fb3e69",
   "metadata": {
    "tags": []
   },
   "outputs": [],
   "source": [
    "def CTCLoss(y_true, y_pred):\n",
    "    batch_len = tf.cast(tf.shape(y_true)[0], dtype=\"int64\")\n",
    "    input_length = tf.cast(tf.shape(y_pred)[1], dtype=\"int64\")\n",
    "    label_length = tf.cast(tf.shape(y_true)[1], dtype=\"int64\")\n",
    "\n",
    "    input_length = input_length * tf.ones(shape=(batch_len, 1), dtype=\"int64\")\n",
    "    label_length = label_length * tf.ones(shape=(batch_len, 1), dtype=\"int64\")\n",
    "\n",
    "    loss = tf.keras.backend.ctc_batch_cost(y_true, y_pred, input_length, label_length)\n",
    "    return loss"
   ]
  },
  {
   "cell_type": "code",
   "execution_count": 47,
   "id": "a26dc3fc-a19c-4378-bd8c-e2b597a1d15c",
   "metadata": {
    "tags": []
   },
   "outputs": [],
   "source": [
    "class ProduceExample(tf.keras.callbacks.Callback): \n",
    "    def __init__(self, dataset) -> None: \n",
    "        self.dataset = dataset.as_numpy_iterator()\n",
    "    \n",
    "    def on_epoch_end(self, epoch, logs=None) -> None:\n",
    "        data = self.dataset.next()\n",
    "        yhat = self.model.predict(data[0])\n",
    "        decoded = tf.keras.backend.ctc_decode(yhat, [75,75], greedy=False)[0][0].numpy()\n",
    "        for x in range(len(yhat)):           \n",
    "            print('Original:', tf.strings.reduce_join(num_to_char(data[1][x])).numpy().decode('utf-8'))\n",
    "            print('Prediction:', tf.strings.reduce_join(num_to_char(decoded[x])).numpy().decode('utf-8'))\n",
    "            print('~'*100)"
   ]
  },
  {
   "cell_type": "code",
   "execution_count": 48,
   "id": "04be90d8-2482-46f9-b513-d5f4f8001c7e",
   "metadata": {
    "tags": []
   },
   "outputs": [],
   "source": [
    "model.compile(optimizer=Adam(learning_rate=0.0001), loss=CTCLoss)"
   ]
  },
  {
   "cell_type": "code",
   "execution_count": 49,
   "id": "eab49367-3f1e-4464-ae76-dbd07549d97e",
   "metadata": {
    "tags": []
   },
   "outputs": [],
   "source": [
    "checkpoint_callback = ModelCheckpoint(os.path.join('models','checkpoint'), monitor='loss', save_weights_only=True) "
   ]
  },
  {
   "cell_type": "code",
   "execution_count": 50,
   "id": "e085a632-d464-46ef-8777-959cad4adb2c",
   "metadata": {
    "tags": []
   },
   "outputs": [],
   "source": [
    "schedule_callback = LearningRateScheduler(scheduler)"
   ]
  },
  {
   "cell_type": "code",
   "execution_count": 51,
   "id": "48eca991-90ab-4592-8a79-b50e9ca015b6",
   "metadata": {
    "tags": []
   },
   "outputs": [],
   "source": [
    "example_callback = ProduceExample(test)"
   ]
  },
  {
   "cell_type": "code",
   "execution_count": 52,
   "id": "8ffba483-aa61-4bbe-a15f-a73e1ddf097c",
   "metadata": {
    "tags": []
   },
   "outputs": [
    {
     "name": "stdout",
     "output_type": "stream",
     "text": [
      "Epoch 1/100\n",
      "  2/450 [..............................] - ETA: 3:03 - loss: 213.9969 "
     ]
    },
    {
     "name": "stderr",
     "output_type": "stream",
     "text": [
      "\n",
      "KeyboardInterrupt\n",
      "\n"
     ]
    }
   ],
   "source": [
    "model.fit(train, validation_data=test, epochs=100, callbacks=[checkpoint_callback, schedule_callback, example_callback])"
   ]
  },
  {
   "cell_type": "markdown",
   "id": "fa8ee94b-89f7-4733-8a0c-a86f86ff590a",
   "metadata": {
    "tags": []
   },
   "source": [
    "# 5. Make a Prediction "
   ]
  },
  {
   "cell_type": "code",
   "execution_count": null,
   "id": "01fa7204-ce0e-49a8-8dbd-14fe5dfead40",
   "metadata": {
    "tags": []
   },
   "outputs": [],
   "source": [
    "url = 'https://drive.google.com/uc?id=1vWscXs4Vt0a_1IH1-ct2TCgXAZT-N3_Y'\n",
    "output = 'checkpoints.zip'\n",
    "gdown.download(url, output, quiet=False)\n",
    "gdown.extractall('checkpoints.zip', 'models')"
   ]
  },
  {
   "cell_type": "code",
   "execution_count": 53,
   "id": "247f664d-3c87-4e96-946e-930dad0e1c2c",
   "metadata": {
    "tags": []
   },
   "outputs": [
    {
     "data": {
      "text/plain": [
       "<tensorflow.python.checkpoint.checkpoint.CheckpointLoadStatus at 0x10cfb56c6a0>"
      ]
     },
     "execution_count": 53,
     "metadata": {},
     "output_type": "execute_result"
    }
   ],
   "source": [
    "model.load_weights('models/checkpoint')"
   ]
  },
  {
   "cell_type": "code",
   "execution_count": 54,
   "id": "7f8d689f-b7bb-443c-9b88-e40c1d800828",
   "metadata": {
    "tags": []
   },
   "outputs": [],
   "source": [
    "test_data = test.as_numpy_iterator()"
   ]
  },
  {
   "cell_type": "code",
   "execution_count": 56,
   "id": "38546dc2-bee9-4837-864b-8a884df40ad7",
   "metadata": {
    "tags": []
   },
   "outputs": [],
   "source": [
    "sample = test_data.next()"
   ]
  },
  {
   "cell_type": "code",
   "execution_count": 57,
   "id": "a43621f0-229d-4c0d-9554-9c3a3da9c61a",
   "metadata": {
    "tags": []
   },
   "outputs": [
    {
     "name": "stdout",
     "output_type": "stream",
     "text": [
      "1/1 [==============================] - 1s 973ms/step\n"
     ]
    }
   ],
   "source": [
    "yhat = model.predict(sample[0])"
   ]
  },
  {
   "cell_type": "code",
   "execution_count": 58,
   "id": "ea462999-f87e-4a7e-a057-5be7b6d8f7d5",
   "metadata": {
    "tags": []
   },
   "outputs": [
    {
     "name": "stdout",
     "output_type": "stream",
     "text": [
      "~~~~~~~~~~~~~~~~~~~~~~~~~~~~~~~~~~~~~~~~~~~~~~~~~~~~~~~~~~~~~~~~~~~~~~~~~~~~~~~~~~~~~~~~~~~~~~~~~~~~ REAL TEXT\n"
     ]
    },
    {
     "data": {
      "text/plain": [
       "[<tf.Tensor: shape=(), dtype=string, numpy=b'place white at x six please'>,\n",
       " <tf.Tensor: shape=(), dtype=string, numpy=b'lay blue in x four now'>]"
      ]
     },
     "execution_count": 58,
     "metadata": {},
     "output_type": "execute_result"
    }
   ],
   "source": [
    "print('~'*100, 'REAL TEXT')\n",
    "[tf.strings.reduce_join([num_to_char(word) for word in sentence]) for sentence in sample[1]]"
   ]
  },
  {
   "cell_type": "code",
   "execution_count": 59,
   "id": "82bd4c10-dd6e-411e-834b-2a3b43fd12c5",
   "metadata": {
    "tags": []
   },
   "outputs": [],
   "source": [
    "decoded = tf.keras.backend.ctc_decode(yhat, input_length=[75,75], greedy=True)[0][0].numpy()"
   ]
  },
  {
   "cell_type": "code",
   "execution_count": 60,
   "id": "5d68ac46-c90b-4eab-a709-f19aee569ff5",
   "metadata": {
    "tags": []
   },
   "outputs": [
    {
     "name": "stdout",
     "output_type": "stream",
     "text": [
      "~~~~~~~~~~~~~~~~~~~~~~~~~~~~~~~~~~~~~~~~~~~~~~~~~~~~~~~~~~~~~~~~~~~~~~~~~~~~~~~~~~~~~~~~~~~~~~~~~~~~ PREDICTIONS\n"
     ]
    },
    {
     "data": {
      "text/plain": [
       "[<tf.Tensor: shape=(), dtype=string, numpy=b'place white at x six please'>,\n",
       " <tf.Tensor: shape=(), dtype=string, numpy=b'lay blue in x four now'>]"
      ]
     },
     "execution_count": 60,
     "metadata": {},
     "output_type": "execute_result"
    }
   ],
   "source": [
    "print('~'*100, 'PREDICTIONS')\n",
    "[tf.strings.reduce_join([num_to_char(word) for word in sentence]) for sentence in decoded]"
   ]
  },
  {
   "cell_type": "markdown",
   "id": "64622f98-e99b-4fed-a2cc-f0da82eb5431",
   "metadata": {},
   "source": [
    "# Test on a Video"
   ]
  },
  {
   "cell_type": "code",
   "execution_count": 61,
   "id": "a8b0c4d0-2031-4331-b91d-d87b1ae6f6e2",
   "metadata": {},
   "outputs": [],
   "source": [
    "sample = load_data(tf.convert_to_tensor('.\\\\data\\\\s1\\\\bras9a.mpg'))"
   ]
  },
  {
   "cell_type": "code",
   "execution_count": 62,
   "id": "0cca60e4-47a9-4683-8a75-48f4684f723d",
   "metadata": {},
   "outputs": [
    {
     "name": "stdout",
     "output_type": "stream",
     "text": [
      "~~~~~~~~~~~~~~~~~~~~~~~~~~~~~~~~~~~~~~~~~~~~~~~~~~~~~~~~~~~~~~~~~~~~~~~~~~~~~~~~~~~~~~~~~~~~~~~~~~~~ REAL TEXT\n"
     ]
    },
    {
     "data": {
      "text/plain": [
       "[<tf.Tensor: shape=(), dtype=string, numpy=b'bin red at s nine again'>]"
      ]
     },
     "execution_count": 62,
     "metadata": {},
     "output_type": "execute_result"
    }
   ],
   "source": [
    "print('~'*100, 'REAL TEXT')\n",
    "[tf.strings.reduce_join([num_to_char(word) for word in sentence]) for sentence in [sample[1]]]"
   ]
  },
  {
   "cell_type": "code",
   "execution_count": 63,
   "id": "8cc5037c-1e32-435c-b0cc-01e1fb3b863c",
   "metadata": {},
   "outputs": [
    {
     "name": "stdout",
     "output_type": "stream",
     "text": [
      "1/1 [==============================] - 1s 720ms/step\n"
     ]
    }
   ],
   "source": [
    "yhat = model.predict(tf.expand_dims(sample[0], axis=0))"
   ]
  },
  {
   "cell_type": "code",
   "execution_count": 64,
   "id": "22c4f77d-715d-409f-bc5e-3ebe48704e8f",
   "metadata": {},
   "outputs": [],
   "source": [
    "decoded = tf.keras.backend.ctc_decode(yhat, input_length=[75], greedy=True)[0][0].numpy()"
   ]
  },
  {
   "cell_type": "code",
   "execution_count": 65,
   "id": "e4d12ecc-b634-499e-a4bc-db9f010835fb",
   "metadata": {},
   "outputs": [
    {
     "name": "stdout",
     "output_type": "stream",
     "text": [
      "~~~~~~~~~~~~~~~~~~~~~~~~~~~~~~~~~~~~~~~~~~~~~~~~~~~~~~~~~~~~~~~~~~~~~~~~~~~~~~~~~~~~~~~~~~~~~~~~~~~~ PREDICTIONS\n"
     ]
    },
    {
     "data": {
      "text/plain": [
       "[<tf.Tensor: shape=(), dtype=string, numpy=b'bin red at s nine again'>]"
      ]
     },
     "execution_count": 65,
     "metadata": {},
     "output_type": "execute_result"
    }
   ],
   "source": [
    "print('~'*100, 'PREDICTIONS')\n",
    "[tf.strings.reduce_join([num_to_char(word) for word in sentence]) for sentence in decoded]"
   ]
  },
  {
   "cell_type": "code",
   "execution_count": null,
   "id": "551dfea2-de6b-4400-b71a-a17631529e3f",
   "metadata": {},
   "outputs": [],
   "source": []
  },
  {
   "cell_type": "code",
   "execution_count": null,
   "id": "fa95863d-3832-47bf-8a77-ebaa38054ace",
   "metadata": {},
   "outputs": [],
   "source": []
  }
 ],
 "metadata": {
  "kernelspec": {
   "display_name": "Python 3",
   "language": "python",
   "name": "python3"
  },
  "language_info": {
   "codemirror_mode": {
    "name": "ipython",
    "version": 3
   },
   "file_extension": ".py",
   "mimetype": "text/x-python",
   "name": "python",
   "nbconvert_exporter": "python",
   "pygments_lexer": "ipython3",
   "version": "3.9.13"
  }
 },
 "nbformat": 4,
 "nbformat_minor": 5
}
